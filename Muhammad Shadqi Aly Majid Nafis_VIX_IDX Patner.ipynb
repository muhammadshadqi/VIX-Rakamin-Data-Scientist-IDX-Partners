{
 "cells": [
  {
   "cell_type": "markdown",
   "id": "6a529780",
   "metadata": {},
   "source": [
    "# Library"
   ]
  },
  {
   "cell_type": "code",
   "execution_count": 1,
   "id": "104a07a6",
   "metadata": {},
   "outputs": [],
   "source": [
    "import numpy as np \n",
    "\n",
    "import pandas as pd \n",
    "import matplotlib.pyplot as plt \n",
    "import seaborn as sns"
   ]
  },
  {
   "cell_type": "markdown",
   "id": "411f8309",
   "metadata": {},
   "source": [
    "# Gathering Data"
   ]
  },
  {
   "cell_type": "code",
   "execution_count": 2,
   "id": "bf24a79d",
   "metadata": {},
   "outputs": [
    {
     "name": "stderr",
     "output_type": "stream",
     "text": [
      "C:\\Users\\User\\anaconda3\\lib\\site-packages\\IPython\\core\\interactiveshell.py:3444: DtypeWarning: Columns (20) have mixed types.Specify dtype option on import or set low_memory=False.\n",
      "  exec(code_obj, self.user_global_ns, self.user_ns)\n"
     ]
    },
    {
     "data": {
      "text/html": [
       "<div>\n",
       "<style scoped>\n",
       "    .dataframe tbody tr th:only-of-type {\n",
       "        vertical-align: middle;\n",
       "    }\n",
       "\n",
       "    .dataframe tbody tr th {\n",
       "        vertical-align: top;\n",
       "    }\n",
       "\n",
       "    .dataframe thead th {\n",
       "        text-align: right;\n",
       "    }\n",
       "</style>\n",
       "<table border=\"1\" class=\"dataframe\">\n",
       "  <thead>\n",
       "    <tr style=\"text-align: right;\">\n",
       "      <th></th>\n",
       "      <th>id</th>\n",
       "      <th>member_id</th>\n",
       "      <th>loan_amnt</th>\n",
       "      <th>funded_amnt</th>\n",
       "      <th>funded_amnt_inv</th>\n",
       "      <th>term</th>\n",
       "      <th>int_rate</th>\n",
       "      <th>installment</th>\n",
       "      <th>grade</th>\n",
       "      <th>sub_grade</th>\n",
       "      <th>...</th>\n",
       "      <th>total_bal_il</th>\n",
       "      <th>il_util</th>\n",
       "      <th>open_rv_12m</th>\n",
       "      <th>open_rv_24m</th>\n",
       "      <th>max_bal_bc</th>\n",
       "      <th>all_util</th>\n",
       "      <th>total_rev_hi_lim</th>\n",
       "      <th>inq_fi</th>\n",
       "      <th>total_cu_tl</th>\n",
       "      <th>inq_last_12m</th>\n",
       "    </tr>\n",
       "  </thead>\n",
       "  <tbody>\n",
       "    <tr>\n",
       "      <th>0</th>\n",
       "      <td>1077501</td>\n",
       "      <td>1296599</td>\n",
       "      <td>5000</td>\n",
       "      <td>5000</td>\n",
       "      <td>4975.0</td>\n",
       "      <td>36 months</td>\n",
       "      <td>10.65</td>\n",
       "      <td>162.87</td>\n",
       "      <td>B</td>\n",
       "      <td>B2</td>\n",
       "      <td>...</td>\n",
       "      <td>NaN</td>\n",
       "      <td>NaN</td>\n",
       "      <td>NaN</td>\n",
       "      <td>NaN</td>\n",
       "      <td>NaN</td>\n",
       "      <td>NaN</td>\n",
       "      <td>NaN</td>\n",
       "      <td>NaN</td>\n",
       "      <td>NaN</td>\n",
       "      <td>NaN</td>\n",
       "    </tr>\n",
       "    <tr>\n",
       "      <th>1</th>\n",
       "      <td>1077430</td>\n",
       "      <td>1314167</td>\n",
       "      <td>2500</td>\n",
       "      <td>2500</td>\n",
       "      <td>2500.0</td>\n",
       "      <td>60 months</td>\n",
       "      <td>15.27</td>\n",
       "      <td>59.83</td>\n",
       "      <td>C</td>\n",
       "      <td>C4</td>\n",
       "      <td>...</td>\n",
       "      <td>NaN</td>\n",
       "      <td>NaN</td>\n",
       "      <td>NaN</td>\n",
       "      <td>NaN</td>\n",
       "      <td>NaN</td>\n",
       "      <td>NaN</td>\n",
       "      <td>NaN</td>\n",
       "      <td>NaN</td>\n",
       "      <td>NaN</td>\n",
       "      <td>NaN</td>\n",
       "    </tr>\n",
       "    <tr>\n",
       "      <th>2</th>\n",
       "      <td>1077175</td>\n",
       "      <td>1313524</td>\n",
       "      <td>2400</td>\n",
       "      <td>2400</td>\n",
       "      <td>2400.0</td>\n",
       "      <td>36 months</td>\n",
       "      <td>15.96</td>\n",
       "      <td>84.33</td>\n",
       "      <td>C</td>\n",
       "      <td>C5</td>\n",
       "      <td>...</td>\n",
       "      <td>NaN</td>\n",
       "      <td>NaN</td>\n",
       "      <td>NaN</td>\n",
       "      <td>NaN</td>\n",
       "      <td>NaN</td>\n",
       "      <td>NaN</td>\n",
       "      <td>NaN</td>\n",
       "      <td>NaN</td>\n",
       "      <td>NaN</td>\n",
       "      <td>NaN</td>\n",
       "    </tr>\n",
       "    <tr>\n",
       "      <th>3</th>\n",
       "      <td>1076863</td>\n",
       "      <td>1277178</td>\n",
       "      <td>10000</td>\n",
       "      <td>10000</td>\n",
       "      <td>10000.0</td>\n",
       "      <td>36 months</td>\n",
       "      <td>13.49</td>\n",
       "      <td>339.31</td>\n",
       "      <td>C</td>\n",
       "      <td>C1</td>\n",
       "      <td>...</td>\n",
       "      <td>NaN</td>\n",
       "      <td>NaN</td>\n",
       "      <td>NaN</td>\n",
       "      <td>NaN</td>\n",
       "      <td>NaN</td>\n",
       "      <td>NaN</td>\n",
       "      <td>NaN</td>\n",
       "      <td>NaN</td>\n",
       "      <td>NaN</td>\n",
       "      <td>NaN</td>\n",
       "    </tr>\n",
       "    <tr>\n",
       "      <th>4</th>\n",
       "      <td>1075358</td>\n",
       "      <td>1311748</td>\n",
       "      <td>3000</td>\n",
       "      <td>3000</td>\n",
       "      <td>3000.0</td>\n",
       "      <td>60 months</td>\n",
       "      <td>12.69</td>\n",
       "      <td>67.79</td>\n",
       "      <td>B</td>\n",
       "      <td>B5</td>\n",
       "      <td>...</td>\n",
       "      <td>NaN</td>\n",
       "      <td>NaN</td>\n",
       "      <td>NaN</td>\n",
       "      <td>NaN</td>\n",
       "      <td>NaN</td>\n",
       "      <td>NaN</td>\n",
       "      <td>NaN</td>\n",
       "      <td>NaN</td>\n",
       "      <td>NaN</td>\n",
       "      <td>NaN</td>\n",
       "    </tr>\n",
       "  </tbody>\n",
       "</table>\n",
       "<p>5 rows × 74 columns</p>\n",
       "</div>"
      ],
      "text/plain": [
       "        id  member_id  loan_amnt  funded_amnt  funded_amnt_inv        term  \\\n",
       "0  1077501    1296599       5000         5000           4975.0   36 months   \n",
       "1  1077430    1314167       2500         2500           2500.0   60 months   \n",
       "2  1077175    1313524       2400         2400           2400.0   36 months   \n",
       "3  1076863    1277178      10000        10000          10000.0   36 months   \n",
       "4  1075358    1311748       3000         3000           3000.0   60 months   \n",
       "\n",
       "   int_rate  installment grade sub_grade  ... total_bal_il il_util  \\\n",
       "0     10.65       162.87     B        B2  ...          NaN     NaN   \n",
       "1     15.27        59.83     C        C4  ...          NaN     NaN   \n",
       "2     15.96        84.33     C        C5  ...          NaN     NaN   \n",
       "3     13.49       339.31     C        C1  ...          NaN     NaN   \n",
       "4     12.69        67.79     B        B5  ...          NaN     NaN   \n",
       "\n",
       "  open_rv_12m  open_rv_24m max_bal_bc all_util total_rev_hi_lim inq_fi  \\\n",
       "0         NaN          NaN        NaN      NaN              NaN    NaN   \n",
       "1         NaN          NaN        NaN      NaN              NaN    NaN   \n",
       "2         NaN          NaN        NaN      NaN              NaN    NaN   \n",
       "3         NaN          NaN        NaN      NaN              NaN    NaN   \n",
       "4         NaN          NaN        NaN      NaN              NaN    NaN   \n",
       "\n",
       "  total_cu_tl inq_last_12m  \n",
       "0         NaN          NaN  \n",
       "1         NaN          NaN  \n",
       "2         NaN          NaN  \n",
       "3         NaN          NaN  \n",
       "4         NaN          NaN  \n",
       "\n",
       "[5 rows x 74 columns]"
      ]
     },
     "execution_count": 2,
     "metadata": {},
     "output_type": "execute_result"
    }
   ],
   "source": [
    "database=pd.read_csv(\"loan_data_2007_2014.csv\",index_col=0)\n",
    "database.head()"
   ]
  },
  {
   "cell_type": "code",
   "execution_count": 3,
   "id": "c0692159",
   "metadata": {},
   "outputs": [
    {
     "data": {
      "text/plain": [
       "(466285, 74)"
      ]
     },
     "execution_count": 3,
     "metadata": {},
     "output_type": "execute_result"
    }
   ],
   "source": [
    "database.shape"
   ]
  },
  {
   "cell_type": "markdown",
   "id": "b0775879",
   "metadata": {},
   "source": [
    "Mencari tau berapa banyak baris dan kolom pada query"
   ]
  },
  {
   "cell_type": "markdown",
   "id": "a29d9281",
   "metadata": {},
   "source": [
    "# Drop Null\n"
   ]
  },
  {
   "cell_type": "code",
   "execution_count": 4,
   "id": "657a61f9",
   "metadata": {},
   "outputs": [
    {
     "name": "stdout",
     "output_type": "stream",
     "text": [
      "<class 'pandas.core.frame.DataFrame'>\n",
      "Int64Index: 466285 entries, 0 to 466284\n",
      "Data columns (total 74 columns):\n",
      " #   Column                       Non-Null Count   Dtype  \n",
      "---  ------                       --------------   -----  \n",
      " 0   id                           466285 non-null  int64  \n",
      " 1   member_id                    466285 non-null  int64  \n",
      " 2   loan_amnt                    466285 non-null  int64  \n",
      " 3   funded_amnt                  466285 non-null  int64  \n",
      " 4   funded_amnt_inv              466285 non-null  float64\n",
      " 5   term                         466285 non-null  object \n",
      " 6   int_rate                     466285 non-null  float64\n",
      " 7   installment                  466285 non-null  float64\n",
      " 8   grade                        466285 non-null  object \n",
      " 9   sub_grade                    466285 non-null  object \n",
      " 10  emp_title                    438697 non-null  object \n",
      " 11  emp_length                   445277 non-null  object \n",
      " 12  home_ownership               466285 non-null  object \n",
      " 13  annual_inc                   466281 non-null  float64\n",
      " 14  verification_status          466285 non-null  object \n",
      " 15  issue_d                      466285 non-null  object \n",
      " 16  loan_status                  466285 non-null  object \n",
      " 17  pymnt_plan                   466285 non-null  object \n",
      " 18  url                          466285 non-null  object \n",
      " 19  desc                         125983 non-null  object \n",
      " 20  purpose                      466285 non-null  object \n",
      " 21  title                        466265 non-null  object \n",
      " 22  zip_code                     466285 non-null  object \n",
      " 23  addr_state                   466285 non-null  object \n",
      " 24  dti                          466285 non-null  float64\n",
      " 25  delinq_2yrs                  466256 non-null  float64\n",
      " 26  earliest_cr_line             466256 non-null  object \n",
      " 27  inq_last_6mths               466256 non-null  float64\n",
      " 28  mths_since_last_delinq       215934 non-null  float64\n",
      " 29  mths_since_last_record       62638 non-null   float64\n",
      " 30  open_acc                     466256 non-null  float64\n",
      " 31  pub_rec                      466256 non-null  float64\n",
      " 32  revol_bal                    466285 non-null  int64  \n",
      " 33  revol_util                   465945 non-null  float64\n",
      " 34  total_acc                    466256 non-null  float64\n",
      " 35  initial_list_status          466285 non-null  object \n",
      " 36  out_prncp                    466285 non-null  float64\n",
      " 37  out_prncp_inv                466285 non-null  float64\n",
      " 38  total_pymnt                  466285 non-null  float64\n",
      " 39  total_pymnt_inv              466285 non-null  float64\n",
      " 40  total_rec_prncp              466285 non-null  float64\n",
      " 41  total_rec_int                466285 non-null  float64\n",
      " 42  total_rec_late_fee           466285 non-null  float64\n",
      " 43  recoveries                   466285 non-null  float64\n",
      " 44  collection_recovery_fee      466285 non-null  float64\n",
      " 45  last_pymnt_d                 465909 non-null  object \n",
      " 46  last_pymnt_amnt              466285 non-null  float64\n",
      " 47  next_pymnt_d                 239071 non-null  object \n",
      " 48  last_credit_pull_d           466243 non-null  object \n",
      " 49  collections_12_mths_ex_med   466140 non-null  float64\n",
      " 50  mths_since_last_major_derog  98974 non-null   float64\n",
      " 51  policy_code                  466285 non-null  int64  \n",
      " 52  application_type             466285 non-null  object \n",
      " 53  annual_inc_joint             0 non-null       float64\n",
      " 54  dti_joint                    0 non-null       float64\n",
      " 55  verification_status_joint    0 non-null       float64\n",
      " 56  acc_now_delinq               466256 non-null  float64\n",
      " 57  tot_coll_amt                 396009 non-null  float64\n",
      " 58  tot_cur_bal                  396009 non-null  float64\n",
      " 59  open_acc_6m                  0 non-null       float64\n",
      " 60  open_il_6m                   0 non-null       float64\n",
      " 61  open_il_12m                  0 non-null       float64\n",
      " 62  open_il_24m                  0 non-null       float64\n",
      " 63  mths_since_rcnt_il           0 non-null       float64\n",
      " 64  total_bal_il                 0 non-null       float64\n",
      " 65  il_util                      0 non-null       float64\n",
      " 66  open_rv_12m                  0 non-null       float64\n",
      " 67  open_rv_24m                  0 non-null       float64\n",
      " 68  max_bal_bc                   0 non-null       float64\n",
      " 69  all_util                     0 non-null       float64\n",
      " 70  total_rev_hi_lim             396009 non-null  float64\n",
      " 71  inq_fi                       0 non-null       float64\n",
      " 72  total_cu_tl                  0 non-null       float64\n",
      " 73  inq_last_12m                 0 non-null       float64\n",
      "dtypes: float64(46), int64(6), object(22)\n",
      "memory usage: 266.8+ MB\n"
     ]
    }
   ],
   "source": [
    "database.info()"
   ]
  },
  {
   "cell_type": "markdown",
   "id": "3d7e59a2",
   "metadata": {},
   "source": [
    "mengecek tipe dari masing masing atribut dan melihat berapa banyak nilai non-nullnya"
   ]
  },
  {
   "cell_type": "code",
   "execution_count": 5,
   "id": "b195273b",
   "metadata": {},
   "outputs": [
    {
     "data": {
      "text/plain": [
       "['mths_since_last_record',\n",
       " 'mths_since_last_major_derog',\n",
       " 'annual_inc_joint',\n",
       " 'dti_joint',\n",
       " 'verification_status_joint',\n",
       " 'open_acc_6m',\n",
       " 'open_il_6m',\n",
       " 'open_il_12m',\n",
       " 'open_il_24m',\n",
       " 'mths_since_rcnt_il',\n",
       " 'total_bal_il',\n",
       " 'il_util',\n",
       " 'open_rv_12m',\n",
       " 'open_rv_24m',\n",
       " 'max_bal_bc',\n",
       " 'all_util',\n",
       " 'inq_fi',\n",
       " 'total_cu_tl',\n",
       " 'inq_last_12m']"
      ]
     },
     "execution_count": 5,
     "metadata": {},
     "output_type": "execute_result"
    }
   ],
   "source": [
    "drop_col =[]\n",
    "def handling_mv(database):    \n",
    "    for col in database.columns:\n",
    "        percent = database[col].isnull().sum()*100/len(database)\n",
    "        if percent >= 75:\n",
    "            drop_col.append(col)\n",
    "    return drop_col\n",
    "handling_mv(database)"
   ]
  },
  {
   "cell_type": "code",
   "execution_count": 6,
   "id": "0a70ca97",
   "metadata": {},
   "outputs": [],
   "source": [
    "drop_col=[\n",
    " 'mths_since_last_record',\n",
    " 'mths_since_last_major_derog',\n",
    " 'annual_inc_joint',\n",
    " 'dti_joint',\n",
    " 'verification_status_joint',\n",
    " 'open_acc_6m',\n",
    " 'open_il_6m',\n",
    " 'open_il_12m',\n",
    " 'open_il_24m',\n",
    " 'mths_since_rcnt_il',\n",
    " 'total_bal_il',\n",
    " 'il_util',\n",
    " 'open_rv_12m',\n",
    " 'open_rv_24m',\n",
    " 'max_bal_bc',\n",
    " 'all_util',\n",
    " 'inq_fi',\n",
    " 'total_cu_tl',\n",
    " 'inq_last_12m'\n",
    "]"
   ]
  },
  {
   "cell_type": "markdown",
   "id": "db896b62",
   "metadata": {},
   "source": [
    "menyimpan nama kolom yang berisi 75% Null"
   ]
  },
  {
   "cell_type": "code",
   "execution_count": 7,
   "id": "8e8b7dae",
   "metadata": {},
   "outputs": [],
   "source": [
    "data_raw=database.drop(drop_col,axis=1)"
   ]
  },
  {
   "cell_type": "markdown",
   "id": "74e1d5ed",
   "metadata": {},
   "source": [
    "menghapus kolom bernilai 75% Null"
   ]
  },
  {
   "cell_type": "code",
   "execution_count": 8,
   "id": "564e1c9c",
   "metadata": {},
   "outputs": [
    {
     "name": "stdout",
     "output_type": "stream",
     "text": [
      "<class 'pandas.core.frame.DataFrame'>\n",
      "Int64Index: 466285 entries, 0 to 466284\n",
      "Data columns (total 55 columns):\n",
      " #   Column                      Non-Null Count   Dtype  \n",
      "---  ------                      --------------   -----  \n",
      " 0   id                          466285 non-null  int64  \n",
      " 1   member_id                   466285 non-null  int64  \n",
      " 2   loan_amnt                   466285 non-null  int64  \n",
      " 3   funded_amnt                 466285 non-null  int64  \n",
      " 4   funded_amnt_inv             466285 non-null  float64\n",
      " 5   term                        466285 non-null  object \n",
      " 6   int_rate                    466285 non-null  float64\n",
      " 7   installment                 466285 non-null  float64\n",
      " 8   grade                       466285 non-null  object \n",
      " 9   sub_grade                   466285 non-null  object \n",
      " 10  emp_title                   438697 non-null  object \n",
      " 11  emp_length                  445277 non-null  object \n",
      " 12  home_ownership              466285 non-null  object \n",
      " 13  annual_inc                  466281 non-null  float64\n",
      " 14  verification_status         466285 non-null  object \n",
      " 15  issue_d                     466285 non-null  object \n",
      " 16  loan_status                 466285 non-null  object \n",
      " 17  pymnt_plan                  466285 non-null  object \n",
      " 18  url                         466285 non-null  object \n",
      " 19  desc                        125983 non-null  object \n",
      " 20  purpose                     466285 non-null  object \n",
      " 21  title                       466265 non-null  object \n",
      " 22  zip_code                    466285 non-null  object \n",
      " 23  addr_state                  466285 non-null  object \n",
      " 24  dti                         466285 non-null  float64\n",
      " 25  delinq_2yrs                 466256 non-null  float64\n",
      " 26  earliest_cr_line            466256 non-null  object \n",
      " 27  inq_last_6mths              466256 non-null  float64\n",
      " 28  mths_since_last_delinq      215934 non-null  float64\n",
      " 29  open_acc                    466256 non-null  float64\n",
      " 30  pub_rec                     466256 non-null  float64\n",
      " 31  revol_bal                   466285 non-null  int64  \n",
      " 32  revol_util                  465945 non-null  float64\n",
      " 33  total_acc                   466256 non-null  float64\n",
      " 34  initial_list_status         466285 non-null  object \n",
      " 35  out_prncp                   466285 non-null  float64\n",
      " 36  out_prncp_inv               466285 non-null  float64\n",
      " 37  total_pymnt                 466285 non-null  float64\n",
      " 38  total_pymnt_inv             466285 non-null  float64\n",
      " 39  total_rec_prncp             466285 non-null  float64\n",
      " 40  total_rec_int               466285 non-null  float64\n",
      " 41  total_rec_late_fee          466285 non-null  float64\n",
      " 42  recoveries                  466285 non-null  float64\n",
      " 43  collection_recovery_fee     466285 non-null  float64\n",
      " 44  last_pymnt_d                465909 non-null  object \n",
      " 45  last_pymnt_amnt             466285 non-null  float64\n",
      " 46  next_pymnt_d                239071 non-null  object \n",
      " 47  last_credit_pull_d          466243 non-null  object \n",
      " 48  collections_12_mths_ex_med  466140 non-null  float64\n",
      " 49  policy_code                 466285 non-null  int64  \n",
      " 50  application_type            466285 non-null  object \n",
      " 51  acc_now_delinq              466256 non-null  float64\n",
      " 52  tot_coll_amt                396009 non-null  float64\n",
      " 53  tot_cur_bal                 396009 non-null  float64\n",
      " 54  total_rev_hi_lim            396009 non-null  float64\n",
      "dtypes: float64(27), int64(6), object(22)\n",
      "memory usage: 199.2+ MB\n"
     ]
    }
   ],
   "source": [
    "data_raw.info()"
   ]
  },
  {
   "cell_type": "markdown",
   "id": "46cd7267",
   "metadata": {},
   "source": [
    "# Drop Duplicated Value"
   ]
  },
  {
   "cell_type": "code",
   "execution_count": 9,
   "id": "524ed9f4",
   "metadata": {},
   "outputs": [
    {
     "data": {
      "text/plain": [
       "466285"
      ]
     },
     "execution_count": 9,
     "metadata": {},
     "output_type": "execute_result"
    }
   ],
   "source": [
    "data_raw.id.nunique()"
   ]
  },
  {
   "cell_type": "code",
   "execution_count": 10,
   "id": "f356ae65",
   "metadata": {},
   "outputs": [
    {
     "data": {
      "text/plain": [
       "466285"
      ]
     },
     "execution_count": 10,
     "metadata": {},
     "output_type": "execute_result"
    }
   ],
   "source": [
    "data_raw.member_id.nunique()"
   ]
  },
  {
   "cell_type": "markdown",
   "id": "9f400413",
   "metadata": {},
   "source": [
    "id atau member id memiliki nilai unik yang sama dengan banyak baris. Hal ini menunjukkan bahwa setiap baris mewakili setiap individu. "
   ]
  },
  {
   "cell_type": "code",
   "execution_count": 11,
   "id": "13c980fb",
   "metadata": {},
   "outputs": [],
   "source": [
    "data_raw.drop(columns=['id','member_id'],inplace=True)"
   ]
  },
  {
   "cell_type": "markdown",
   "id": "9e4dd46e",
   "metadata": {},
   "source": [
    "Menghapus kolom id dan member_id karena tidak mempengaruhi hasil analisis"
   ]
  },
  {
   "cell_type": "code",
   "execution_count": 12,
   "id": "18c78cbb",
   "metadata": {},
   "outputs": [
    {
     "data": {
      "text/html": [
       "<div>\n",
       "<style scoped>\n",
       "    .dataframe tbody tr th:only-of-type {\n",
       "        vertical-align: middle;\n",
       "    }\n",
       "\n",
       "    .dataframe tbody tr th {\n",
       "        vertical-align: top;\n",
       "    }\n",
       "\n",
       "    .dataframe thead th {\n",
       "        text-align: right;\n",
       "    }\n",
       "</style>\n",
       "<table border=\"1\" class=\"dataframe\">\n",
       "  <thead>\n",
       "    <tr style=\"text-align: right;\">\n",
       "      <th></th>\n",
       "      <th>loan_amnt</th>\n",
       "      <th>funded_amnt</th>\n",
       "      <th>funded_amnt_inv</th>\n",
       "      <th>term</th>\n",
       "      <th>int_rate</th>\n",
       "      <th>installment</th>\n",
       "      <th>grade</th>\n",
       "      <th>sub_grade</th>\n",
       "      <th>emp_title</th>\n",
       "      <th>emp_length</th>\n",
       "      <th>...</th>\n",
       "      <th>last_pymnt_amnt</th>\n",
       "      <th>next_pymnt_d</th>\n",
       "      <th>last_credit_pull_d</th>\n",
       "      <th>collections_12_mths_ex_med</th>\n",
       "      <th>policy_code</th>\n",
       "      <th>application_type</th>\n",
       "      <th>acc_now_delinq</th>\n",
       "      <th>tot_coll_amt</th>\n",
       "      <th>tot_cur_bal</th>\n",
       "      <th>total_rev_hi_lim</th>\n",
       "    </tr>\n",
       "  </thead>\n",
       "  <tbody>\n",
       "    <tr>\n",
       "      <th>0</th>\n",
       "      <td>5000</td>\n",
       "      <td>5000</td>\n",
       "      <td>4975.0</td>\n",
       "      <td>36 months</td>\n",
       "      <td>10.65</td>\n",
       "      <td>162.87</td>\n",
       "      <td>B</td>\n",
       "      <td>B2</td>\n",
       "      <td>NaN</td>\n",
       "      <td>10+ years</td>\n",
       "      <td>...</td>\n",
       "      <td>171.62</td>\n",
       "      <td>NaN</td>\n",
       "      <td>Jan-16</td>\n",
       "      <td>0.0</td>\n",
       "      <td>1</td>\n",
       "      <td>INDIVIDUAL</td>\n",
       "      <td>0.0</td>\n",
       "      <td>NaN</td>\n",
       "      <td>NaN</td>\n",
       "      <td>NaN</td>\n",
       "    </tr>\n",
       "    <tr>\n",
       "      <th>1</th>\n",
       "      <td>2500</td>\n",
       "      <td>2500</td>\n",
       "      <td>2500.0</td>\n",
       "      <td>60 months</td>\n",
       "      <td>15.27</td>\n",
       "      <td>59.83</td>\n",
       "      <td>C</td>\n",
       "      <td>C4</td>\n",
       "      <td>Ryder</td>\n",
       "      <td>&lt; 1 year</td>\n",
       "      <td>...</td>\n",
       "      <td>119.66</td>\n",
       "      <td>NaN</td>\n",
       "      <td>Sep-13</td>\n",
       "      <td>0.0</td>\n",
       "      <td>1</td>\n",
       "      <td>INDIVIDUAL</td>\n",
       "      <td>0.0</td>\n",
       "      <td>NaN</td>\n",
       "      <td>NaN</td>\n",
       "      <td>NaN</td>\n",
       "    </tr>\n",
       "    <tr>\n",
       "      <th>2</th>\n",
       "      <td>2400</td>\n",
       "      <td>2400</td>\n",
       "      <td>2400.0</td>\n",
       "      <td>36 months</td>\n",
       "      <td>15.96</td>\n",
       "      <td>84.33</td>\n",
       "      <td>C</td>\n",
       "      <td>C5</td>\n",
       "      <td>NaN</td>\n",
       "      <td>10+ years</td>\n",
       "      <td>...</td>\n",
       "      <td>649.91</td>\n",
       "      <td>NaN</td>\n",
       "      <td>Jan-16</td>\n",
       "      <td>0.0</td>\n",
       "      <td>1</td>\n",
       "      <td>INDIVIDUAL</td>\n",
       "      <td>0.0</td>\n",
       "      <td>NaN</td>\n",
       "      <td>NaN</td>\n",
       "      <td>NaN</td>\n",
       "    </tr>\n",
       "    <tr>\n",
       "      <th>3</th>\n",
       "      <td>10000</td>\n",
       "      <td>10000</td>\n",
       "      <td>10000.0</td>\n",
       "      <td>36 months</td>\n",
       "      <td>13.49</td>\n",
       "      <td>339.31</td>\n",
       "      <td>C</td>\n",
       "      <td>C1</td>\n",
       "      <td>AIR RESOURCES BOARD</td>\n",
       "      <td>10+ years</td>\n",
       "      <td>...</td>\n",
       "      <td>357.48</td>\n",
       "      <td>NaN</td>\n",
       "      <td>Jan-15</td>\n",
       "      <td>0.0</td>\n",
       "      <td>1</td>\n",
       "      <td>INDIVIDUAL</td>\n",
       "      <td>0.0</td>\n",
       "      <td>NaN</td>\n",
       "      <td>NaN</td>\n",
       "      <td>NaN</td>\n",
       "    </tr>\n",
       "    <tr>\n",
       "      <th>4</th>\n",
       "      <td>3000</td>\n",
       "      <td>3000</td>\n",
       "      <td>3000.0</td>\n",
       "      <td>60 months</td>\n",
       "      <td>12.69</td>\n",
       "      <td>67.79</td>\n",
       "      <td>B</td>\n",
       "      <td>B5</td>\n",
       "      <td>University Medical Group</td>\n",
       "      <td>1 year</td>\n",
       "      <td>...</td>\n",
       "      <td>67.79</td>\n",
       "      <td>Feb-16</td>\n",
       "      <td>Jan-16</td>\n",
       "      <td>0.0</td>\n",
       "      <td>1</td>\n",
       "      <td>INDIVIDUAL</td>\n",
       "      <td>0.0</td>\n",
       "      <td>NaN</td>\n",
       "      <td>NaN</td>\n",
       "      <td>NaN</td>\n",
       "    </tr>\n",
       "  </tbody>\n",
       "</table>\n",
       "<p>5 rows × 53 columns</p>\n",
       "</div>"
      ],
      "text/plain": [
       "   loan_amnt  funded_amnt  funded_amnt_inv        term  int_rate  installment  \\\n",
       "0       5000         5000           4975.0   36 months     10.65       162.87   \n",
       "1       2500         2500           2500.0   60 months     15.27        59.83   \n",
       "2       2400         2400           2400.0   36 months     15.96        84.33   \n",
       "3      10000        10000          10000.0   36 months     13.49       339.31   \n",
       "4       3000         3000           3000.0   60 months     12.69        67.79   \n",
       "\n",
       "  grade sub_grade                 emp_title emp_length  ... last_pymnt_amnt  \\\n",
       "0     B        B2                       NaN  10+ years  ...          171.62   \n",
       "1     C        C4                     Ryder   < 1 year  ...          119.66   \n",
       "2     C        C5                       NaN  10+ years  ...          649.91   \n",
       "3     C        C1       AIR RESOURCES BOARD  10+ years  ...          357.48   \n",
       "4     B        B5  University Medical Group     1 year  ...           67.79   \n",
       "\n",
       "   next_pymnt_d last_credit_pull_d collections_12_mths_ex_med policy_code  \\\n",
       "0           NaN             Jan-16                        0.0           1   \n",
       "1           NaN             Sep-13                        0.0           1   \n",
       "2           NaN             Jan-16                        0.0           1   \n",
       "3           NaN             Jan-15                        0.0           1   \n",
       "4        Feb-16             Jan-16                        0.0           1   \n",
       "\n",
       "  application_type acc_now_delinq tot_coll_amt tot_cur_bal total_rev_hi_lim  \n",
       "0       INDIVIDUAL            0.0          NaN         NaN              NaN  \n",
       "1       INDIVIDUAL            0.0          NaN         NaN              NaN  \n",
       "2       INDIVIDUAL            0.0          NaN         NaN              NaN  \n",
       "3       INDIVIDUAL            0.0          NaN         NaN              NaN  \n",
       "4       INDIVIDUAL            0.0          NaN         NaN              NaN  \n",
       "\n",
       "[5 rows x 53 columns]"
      ]
     },
     "execution_count": 12,
     "metadata": {},
     "output_type": "execute_result"
    }
   ],
   "source": [
    "data_raw.head()"
   ]
  },
  {
   "cell_type": "markdown",
   "id": "128f351f",
   "metadata": {},
   "source": [
    "# Formatting"
   ]
  },
  {
   "cell_type": "markdown",
   "id": "7917576a",
   "metadata": {},
   "source": [
    "## term"
   ]
  },
  {
   "cell_type": "markdown",
   "id": "7e1fac36",
   "metadata": {},
   "source": [
    "term : Jumlah pembayaran atas pinjaman dengan satuan banya bulan"
   ]
  },
  {
   "cell_type": "code",
   "execution_count": 13,
   "id": "1feb6e5e",
   "metadata": {},
   "outputs": [
    {
     "data": {
      "text/plain": [
       "array([' 36 months', ' 60 months'], dtype=object)"
      ]
     },
     "execution_count": 13,
     "metadata": {},
     "output_type": "execute_result"
    }
   ],
   "source": [
    "data_raw['term'].unique()"
   ]
  },
  {
   "cell_type": "code",
   "execution_count": 14,
   "id": "29a5b679",
   "metadata": {},
   "outputs": [],
   "source": [
    "data_raw['term_int'] = data_raw['term'].str.replace(' months', '')\n",
    "data_raw['term_int'] = data_raw['term_int'].astype(float)"
   ]
  },
  {
   "cell_type": "code",
   "execution_count": 15,
   "id": "9bb3bcff",
   "metadata": {},
   "outputs": [],
   "source": [
    "data_raw.drop('term',axis=1,inplace=True)"
   ]
  },
  {
   "cell_type": "markdown",
   "id": "e4e4ae8b",
   "metadata": {},
   "source": [
    "## emp_length"
   ]
  },
  {
   "cell_type": "markdown",
   "id": "3fb0b4db",
   "metadata": {},
   "source": [
    "emp_length : Lama pekerjaan dalam beberapa tahun dalam satuan tahun"
   ]
  },
  {
   "cell_type": "code",
   "execution_count": 16,
   "id": "d4bbe657",
   "metadata": {},
   "outputs": [
    {
     "data": {
      "text/plain": [
       "array(['10+ years', '< 1 year', '1 year', '3 years', '8 years', '9 years',\n",
       "       '4 years', '5 years', '6 years', '2 years', '7 years', nan],\n",
       "      dtype=object)"
      ]
     },
     "execution_count": 16,
     "metadata": {},
     "output_type": "execute_result"
    }
   ],
   "source": [
    "data_raw['emp_length'].unique()"
   ]
  },
  {
   "cell_type": "code",
   "execution_count": 17,
   "id": "a0b4abb0",
   "metadata": {},
   "outputs": [
    {
     "name": "stderr",
     "output_type": "stream",
     "text": [
      "C:\\Users\\User\\AppData\\Local\\Temp/ipykernel_8320/4138861417.py:1: FutureWarning: The default value of regex will change from True to False in a future version.\n",
      "  data_raw['emp_length_int'] = data_raw['emp_length'].str.replace('\\+ years', '')\n"
     ]
    }
   ],
   "source": [
    "data_raw['emp_length_int'] = data_raw['emp_length'].str.replace('\\+ years', '')\n",
    "data_raw['emp_length_int'] = data_raw['emp_length_int'].str.replace('< 1 year', str(0))\n",
    "data_raw['emp_length_int'] = data_raw['emp_length_int'].str.replace(' years', '')\n",
    "data_raw['emp_length_int'] = data_raw['emp_length_int'].str.replace(' year', '')"
   ]
  },
  {
   "cell_type": "code",
   "execution_count": 18,
   "id": "a9a0a02e",
   "metadata": {},
   "outputs": [],
   "source": [
    "data_raw['emp_length_int'] = data_raw['emp_length_int'].astype(float)\n",
    "data_raw.drop('emp_length',axis=1,inplace=True)"
   ]
  },
  {
   "cell_type": "markdown",
   "id": "162d3962",
   "metadata": {},
   "source": [
    "## earliest_cr_line "
   ]
  },
  {
   "cell_type": "markdown",
   "id": "4dbe156d",
   "metadata": {},
   "source": [
    "earliest_cr_line : Bulan jalur kredit yang paling awal yang dilaporkan peminjam dibuka."
   ]
  },
  {
   "cell_type": "markdown",
   "id": "fed06834",
   "metadata": {},
   "source": [
    "Reference date yang digunakan tahun 2017 berhubung data yang digunakan data 2007 - 2014"
   ]
  },
  {
   "cell_type": "code",
   "execution_count": 19,
   "id": "b0f2de6b",
   "metadata": {},
   "outputs": [
    {
     "data": {
      "text/plain": [
       "array(['Jan-85', 'Apr-99', 'Nov-01', 'Feb-96', 'Jan-96', 'Nov-04',\n",
       "       'Jul-05', 'Jan-07', 'Apr-04', 'Sep-04', 'Jan-98', 'Oct-89',\n",
       "       'Jul-03', 'May-91', 'Sep-07', 'Oct-98', 'Aug-93', 'Oct-03',\n",
       "       'Jan-01', 'Nov-97', 'Feb-83', 'Jul-85', 'Apr-03', 'Jun-01',\n",
       "       'Feb-02', 'Aug-84', 'Nov-06', 'Dec-87', 'Nov-81', 'Feb-97',\n",
       "       'Apr-05', 'Oct-07', 'Dec-00', 'Apr-07', 'Dec-01', 'Jan-03',\n",
       "       'Mar-94', 'Sep-98', 'Jun-04', 'Nov-95', 'Jul-99', 'Jun-95',\n",
       "       'Sep-92', 'Jan-02', 'Apr-92', 'Oct-06', 'May-00', 'Dec-98',\n",
       "       'Dec-04', 'Oct-00', 'May-02', 'May-06', 'Jul-02', 'Jul-06',\n",
       "       'May-97', 'Oct-05', 'Apr-95', 'Oct-02', 'Jan-00', 'Apr-00',\n",
       "       'Dec-94', 'Sep-05', 'Dec-84', 'Dec-99', 'Nov-03', 'Jun-89',\n",
       "       'Jun-03', 'Oct-96', 'May-03', 'Jun-02', 'Jun-07', 'Dec-96',\n",
       "       'Feb-84', 'Sep-02', 'Jan-86', 'May-98', 'Jan-97', 'Jun-05',\n",
       "       'Feb-90', 'Mar-04', 'Jul-95', 'Aug-94', 'Jun-92', 'Mar-97',\n",
       "       'Apr-06', 'Apr-90', 'Aug-99', 'Sep-00', 'Feb-01', 'Dec-88',\n",
       "       'Feb-99', 'Dec-91', 'Aug-00', 'Oct-04', 'Aug-04', 'Feb-05',\n",
       "       'Nov-05', 'Nov-00', 'May-07', 'Jan-91', 'Jun-00', 'Aug-06',\n",
       "       'Dec-02', 'Jun-93', 'Jun-06', 'Feb-04', 'Dec-90', 'Mar-00',\n",
       "       'Feb-95', 'Jul-01', 'Apr-02', 'Sep-06', 'May-99', 'Aug-98',\n",
       "       'Dec-05', 'May-04', 'Oct-01', 'Jun-83', 'Mar-86', 'Apr-80',\n",
       "       'Jul-04', 'Jul-08', 'May-96', 'Jan-04', 'Nov-02', 'Aug-02',\n",
       "       'Aug-01', 'Mar-91', 'Sep-89', 'Sep-94', 'Sep-03', 'Sep-99',\n",
       "       'Aug-05', 'Dec-86', 'Nov-98', 'Feb-06', 'May-94', 'Nov-07',\n",
       "       'Feb-93', 'Nov-91', 'May-05', 'Dec-73', 'May-01', 'Mar-90',\n",
       "       'Mar-96', 'Oct-79', 'Jun-81', 'Mar-01', 'Apr-01', 'Jun-99',\n",
       "       'Nov-93', 'Jan-06', 'Dec-97', 'Nov-94', 'Jul-97', 'Oct-91',\n",
       "       'Jun-94', 'Mar-06', 'Sep-96', 'Apr-91', 'Jul-93', 'Jan-95',\n",
       "       'Sep-87', 'Mar-03', 'Oct-99', 'Jul-96', 'Dec-03', 'Aug-88',\n",
       "       'Jan-92', 'Mar-98', 'Feb-07', 'Aug-82', 'Mar-95', 'Dec-92',\n",
       "       'Jul-98', 'Jul-89', 'May-90', 'Jul-94', 'Sep-01', 'Mar-84',\n",
       "       'Aug-03', 'Nov-99', 'Mar-07', 'Mar-08', 'Apr-94', 'Jan-05',\n",
       "       'Jul-86', 'Aug-90', 'May-92', 'Jul-00', 'Mar-88', 'May-83',\n",
       "       'Apr-93', 'Jul-78', 'Feb-00', 'Dec-81', 'Mar-92', 'Jan-81',\n",
       "       'Sep-90', 'Jun-98', 'May-93', 'Nov-96', 'Mar-02', 'Jan-88',\n",
       "       'Aug-97', 'Aug-87', 'Aug-08', 'Oct-94', 'Oct-86', 'Feb-94',\n",
       "       'Jun-96', 'Feb-98', 'Nov-08', 'Apr-98', 'Jul-79', 'Jan-93',\n",
       "       'May-87', 'Jul-71', 'Aug-07', 'Jun-97', 'Mar-80', 'Dec-06',\n",
       "       'Jul-07', 'Oct-95', 'Jul-91', 'Jul-92', 'Dec-72', 'Dec-93',\n",
       "       'Jan-99', 'Feb-03', 'Apr-97', 'Dec-95', 'Apr-96', 'Jul-90',\n",
       "       'Mar-70', 'Nov-84', 'Apr-84', 'Jul-84', 'Aug-95', 'Mar-99',\n",
       "       'Sep-88', 'Mar-89', 'Mar-87', 'Oct-97', 'Dec-80', 'Jan-94',\n",
       "       'Sep-95', 'Mar-05', 'Jan-89', 'Feb-92', 'Jan-90', 'Nov-90',\n",
       "       'Mar-69', 'Jun-75', 'Mar-85', 'Dec-07', 'Oct-93', 'Dec-89',\n",
       "       'Sep-80', 'Jun-88', 'May-78', 'Apr-73', 'Aug-89', 'Oct-90',\n",
       "       'Sep-91', 'Feb-82', 'Feb-87', 'Nov-85', 'Jan-84', 'Jul-88',\n",
       "       'May-08', 'Oct-85', 'Mar-83', 'Aug-91', 'Sep-86', 'Jun-90',\n",
       "       'Feb-86', 'Sep-97', 'Jun-84', 'Sep-81', 'Apr-86', 'Aug-79',\n",
       "       'Aug-80', 'Nov-92', 'Sep-93', 'Jun-87', 'Sep-82', 'Aug-92',\n",
       "       'Aug-85', 'Jul-83', 'Jun-91', 'Dec-83', 'Jan-87', 'Nov-78',\n",
       "       'Oct-84', 'Aug-96', 'Nov-89', 'Sep-76', 'Nov-86', 'Oct-87',\n",
       "       'Sep-08', 'May-77', 'May-86', 'Mar-81', 'Jan-83', 'Nov-76',\n",
       "       'Sep-79', 'Oct-83', 'Sep-62', 'Jun-85', 'May-82', 'Feb-88',\n",
       "       'Oct-92', 'Aug-83', 'Jun-73', 'Apr-85', 'Oct-88', 'Oct-81',\n",
       "       'Sep-68', 'Jul-74', 'Nov-87', 'May-95', 'Feb-91', 'Nov-88',\n",
       "       'Mar-93', 'Jun-08', 'Jul-80', 'Dec-82', 'Mar-75', 'Feb-80',\n",
       "       'Apr-88', 'Dec-79', 'Sep-85', 'Sep-71', 'Mar-78', 'Feb-08',\n",
       "       'Aug-78', 'Nov-70', 'Jun-79', 'Jun-80', 'Apr-89', 'Sep-83',\n",
       "       'Feb-89', 'Nov-83', 'Jun-86', 'Oct-82', 'Aug-86', 'Oct-80',\n",
       "       'May-88', 'Dec-85', 'Jan-82', 'Sep-77', 'Dec-76', 'Apr-82',\n",
       "       'May-84', 'Apr-08', 'Feb-79', 'Jan-08', 'Sep-64', 'Jul-87',\n",
       "       'Jan-78', 'May-89', 'Oct-77', 'Dec-75', 'Feb-85', 'Oct-08',\n",
       "       'Nov-82', 'May-75', 'May-85', 'Feb-71', 'Jun-77', 'Apr-81',\n",
       "       'May-79', 'Jan-72', 'Sep-67', 'Apr-78', 'Feb-65', 'Apr-83',\n",
       "       'Nov-75', 'Jun-67', 'Mar-74', 'Jul-72', 'Aug-67', 'Apr-71',\n",
       "       'Sep-84', 'May-81', 'Dec-70', 'Oct-73', 'Jan-71', 'Dec-63',\n",
       "       'Apr-74', 'Jan-80', 'Aug-69', 'Apr-75', 'Jul-77', 'Mar-77',\n",
       "       'Nov-69', 'Jan-76', 'Mar-82', 'Apr-87', 'Dec-69', 'May-74',\n",
       "       'Aug-74', 'Jun-72', 'Mar-63', 'Nov-79', 'Aug-75', 'Sep-74',\n",
       "       'Aug-81', 'May-73', 'Sep-73', 'Mar-73', 'Dec-77', 'Oct-76',\n",
       "       'Jan-74', 'Jan-70', 'Aug-68', 'Feb-76', 'Jan-75', 'Oct-72',\n",
       "       'Dec-74', 'Feb-73', 'Nov-65', 'Mar-72', 'Jun-82', 'Jun-74',\n",
       "       'May-65', 'Jun-71', 'Oct-70', 'Apr-76', 'Oct-71', 'Apr-77',\n",
       "       'Sep-78', 'Oct-78', 'Oct-54', 'Feb-81', 'Jan-77', 'Aug-77',\n",
       "       'Dec-78', 'Aug-76', 'Jun-68', 'Jun-78', 'Jun-69', 'May-80',\n",
       "       'Jan-79', 'Oct-65', 'Nov-74', 'Apr-66', 'Jun-76', 'Feb-72',\n",
       "       'May-76', 'Mar-68', 'Mar-76', 'Jul-70', 'Mar-79', 'Jul-76',\n",
       "       'Jul-82', 'Sep-65', 'Apr-67', 'Oct-63', 'Feb-70', 'Jul-73',\n",
       "       'Feb-78', 'Nov-71', 'Aug-72', 'Jul-75', 'Sep-70', 'Jul-81',\n",
       "       'Oct-64', 'Sep-72', 'May-70', 'May-63', 'Feb-69', 'Nov-80',\n",
       "       'Jul-67', 'Apr-70', 'Nov-77', 'Nov-66', 'May-71', 'Apr-79',\n",
       "       'May-72', 'Feb-68', 'Jul-64', 'Nov-67', 'Apr-64', 'Feb-75',\n",
       "       'Jun-59', 'Sep-56', 'Jun-66', 'Jan-46', 'Mar-66', 'Jan-63',\n",
       "       'Dec-50', 'Jul-69', 'Jan-68', 'Nov-73', 'Jun-70', 'Feb-77',\n",
       "       'Feb-74', 'Jan-73', 'Feb-66', 'Dec-61', 'Aug-73', 'Aug-70',\n",
       "       'Sep-69', 'Sep-75', 'Dec-68', 'Nov-54', 'Oct-69', 'Dec-65',\n",
       "       'Apr-72', 'Nov-72', 'Sep-63', 'Apr-69', 'Nov-62', 'Oct-67',\n",
       "       'May-67', 'Nov-61', 'Feb-67', 'Nov-68', 'Oct-75', 'Mar-71',\n",
       "       'Aug-71', 'Dec-66', 'Oct-68', 'Oct-74', 'Nov-63', 'Apr-68',\n",
       "       'May-69', 'Nov-59', nan, 'Oct-10', 'Dec-09', 'Nov-10', 'Jan-10',\n",
       "       'Dec-08', 'Sep-09', 'Jul-10', 'Jan-09', 'May-09', 'May-10',\n",
       "       'Sep-10', 'Apr-09', 'Nov-09', 'Apr-10', 'Mar-09', 'Feb-09',\n",
       "       'Aug-09', 'Oct-09', 'Jun-09', 'Jun-10', 'Jul-09', 'Feb-10',\n",
       "       'Mar-10', 'Aug-10', 'Jan-61', 'Oct-62', 'Jun-64', 'Apr-62',\n",
       "       'Jan-60', 'Sep-66', 'Mar-65', 'May-68', 'Jul-66', 'Dec-56',\n",
       "       'Dec-71', 'Apr-65', 'Jan-64', 'Jul-65', 'Jan-65', 'Jan-62',\n",
       "       'Aug-64', 'Jan-69', 'Oct-66', 'Jun-62', 'Dec-67', 'Oct-60',\n",
       "       'Jul-62', 'Dec-60', 'Jul-60', 'Jun-65', 'May-66', 'Oct-57',\n",
       "       'Aug-65', 'May-60', 'Jan-67', 'Nov-53', 'Oct-59', 'Jun-63',\n",
       "       'Mar-67', 'Jul-63', 'Nov-60', 'Mar-62', 'Mar-64', 'Jul-68',\n",
       "       'Feb-63', 'Jan-66', 'Dec-64', 'May-64', 'Oct-61', 'Aug-60',\n",
       "       'Mar-60', 'Apr-55', 'Sep-59', 'Aug-66', 'Jul-55', 'Aug-61',\n",
       "       'Nov-64', 'May-53', 'Nov-50', 'Nov-55', 'Mar-61', 'Feb-57',\n",
       "       'Aug-63', 'Feb-60', 'Sep-60', 'Feb-64', 'Dec-51', 'Nov-58',\n",
       "       'Aug-62', 'Oct-58', 'May-62', 'Mar-11', 'Jun-11', 'Dec-10',\n",
       "       'Oct-11', 'Sep-11', 'Jul-11', 'Apr-11', 'May-11', 'Jan-11',\n",
       "       'Feb-11', 'Aug-11', 'Apr-63', 'Nov-11', 'Dec-58', 'Jan-58',\n",
       "       'Jul-59', 'Jan-55', 'May-59', 'Aug-46', 'Apr-61', 'Jun-58',\n",
       "       'Jul-58', 'Jun-60', 'Jan-51', 'Dec-62', 'Mar-59', 'Aug-58',\n",
       "       'Jan-59', 'Feb-61', 'Sep-57', 'Jun-49', 'Jun-61', 'Jan-56',\n",
       "       'Jan-54', 'Jan-57', 'Jan-44', 'Oct-50', 'Jan-48', 'Jul-61',\n",
       "       'May-58', 'Jan-53', 'May-50', 'Nov-56'], dtype=object)"
      ]
     },
     "execution_count": 19,
     "metadata": {},
     "output_type": "execute_result"
    }
   ],
   "source": [
    "data_raw['earliest_cr_line'].unique()"
   ]
  },
  {
   "cell_type": "code",
   "execution_count": 20,
   "id": "b3c46fa1",
   "metadata": {},
   "outputs": [
    {
     "data": {
      "text/plain": [
       "array(['1985-01-01T00:00:00.000000000', '1999-04-01T00:00:00.000000000',\n",
       "       '2001-11-01T00:00:00.000000000', '1996-02-01T00:00:00.000000000',\n",
       "       '1996-01-01T00:00:00.000000000', '2004-11-01T00:00:00.000000000',\n",
       "       '2005-07-01T00:00:00.000000000', '2007-01-01T00:00:00.000000000',\n",
       "       '2004-04-01T00:00:00.000000000', '2004-09-01T00:00:00.000000000',\n",
       "       '1998-01-01T00:00:00.000000000', '1989-10-01T00:00:00.000000000',\n",
       "       '2003-07-01T00:00:00.000000000', '1991-05-01T00:00:00.000000000',\n",
       "       '2007-09-01T00:00:00.000000000', '1998-10-01T00:00:00.000000000',\n",
       "       '1993-08-01T00:00:00.000000000', '2003-10-01T00:00:00.000000000',\n",
       "       '2001-01-01T00:00:00.000000000', '1997-11-01T00:00:00.000000000',\n",
       "       '1983-02-01T00:00:00.000000000', '1985-07-01T00:00:00.000000000',\n",
       "       '2003-04-01T00:00:00.000000000', '2001-06-01T00:00:00.000000000',\n",
       "       '2002-02-01T00:00:00.000000000', '1984-08-01T00:00:00.000000000',\n",
       "       '2006-11-01T00:00:00.000000000', '1987-12-01T00:00:00.000000000',\n",
       "       '1981-11-01T00:00:00.000000000', '1997-02-01T00:00:00.000000000',\n",
       "       '2005-04-01T00:00:00.000000000', '2007-10-01T00:00:00.000000000',\n",
       "       '2000-12-01T00:00:00.000000000', '2007-04-01T00:00:00.000000000',\n",
       "       '2001-12-01T00:00:00.000000000', '2003-01-01T00:00:00.000000000',\n",
       "       '1994-03-01T00:00:00.000000000', '1998-09-01T00:00:00.000000000',\n",
       "       '2004-06-01T00:00:00.000000000', '1995-11-01T00:00:00.000000000',\n",
       "       '1999-07-01T00:00:00.000000000', '1995-06-01T00:00:00.000000000',\n",
       "       '1992-09-01T00:00:00.000000000', '2002-01-01T00:00:00.000000000',\n",
       "       '1992-04-01T00:00:00.000000000', '2006-10-01T00:00:00.000000000',\n",
       "       '2000-05-01T00:00:00.000000000', '1998-12-01T00:00:00.000000000',\n",
       "       '2004-12-01T00:00:00.000000000', '2000-10-01T00:00:00.000000000',\n",
       "       '2002-05-01T00:00:00.000000000', '2006-05-01T00:00:00.000000000',\n",
       "       '2002-07-01T00:00:00.000000000', '2006-07-01T00:00:00.000000000',\n",
       "       '1997-05-01T00:00:00.000000000', '2005-10-01T00:00:00.000000000',\n",
       "       '1995-04-01T00:00:00.000000000', '2002-10-01T00:00:00.000000000',\n",
       "       '2000-01-01T00:00:00.000000000', '2000-04-01T00:00:00.000000000',\n",
       "       '1994-12-01T00:00:00.000000000', '2005-09-01T00:00:00.000000000',\n",
       "       '1984-12-01T00:00:00.000000000', '1999-12-01T00:00:00.000000000',\n",
       "       '2003-11-01T00:00:00.000000000', '1989-06-01T00:00:00.000000000',\n",
       "       '2003-06-01T00:00:00.000000000', '1996-10-01T00:00:00.000000000',\n",
       "       '2003-05-01T00:00:00.000000000', '2002-06-01T00:00:00.000000000',\n",
       "       '2007-06-01T00:00:00.000000000', '1996-12-01T00:00:00.000000000',\n",
       "       '1984-02-01T00:00:00.000000000', '2002-09-01T00:00:00.000000000',\n",
       "       '1986-01-01T00:00:00.000000000', '1998-05-01T00:00:00.000000000',\n",
       "       '1997-01-01T00:00:00.000000000', '2005-06-01T00:00:00.000000000',\n",
       "       '1990-02-01T00:00:00.000000000', '2004-03-01T00:00:00.000000000',\n",
       "       '1995-07-01T00:00:00.000000000', '1994-08-01T00:00:00.000000000',\n",
       "       '1992-06-01T00:00:00.000000000', '1997-03-01T00:00:00.000000000',\n",
       "       '2006-04-01T00:00:00.000000000', '1990-04-01T00:00:00.000000000',\n",
       "       '1999-08-01T00:00:00.000000000', '2000-09-01T00:00:00.000000000',\n",
       "       '2001-02-01T00:00:00.000000000', '1988-12-01T00:00:00.000000000',\n",
       "       '1999-02-01T00:00:00.000000000', '1991-12-01T00:00:00.000000000',\n",
       "       '2000-08-01T00:00:00.000000000', '2004-10-01T00:00:00.000000000',\n",
       "       '2004-08-01T00:00:00.000000000', '2005-02-01T00:00:00.000000000',\n",
       "       '2005-11-01T00:00:00.000000000', '2000-11-01T00:00:00.000000000',\n",
       "       '2007-05-01T00:00:00.000000000', '1991-01-01T00:00:00.000000000',\n",
       "       '2000-06-01T00:00:00.000000000', '2006-08-01T00:00:00.000000000',\n",
       "       '2002-12-01T00:00:00.000000000', '1993-06-01T00:00:00.000000000',\n",
       "       '2006-06-01T00:00:00.000000000', '2004-02-01T00:00:00.000000000',\n",
       "       '1990-12-01T00:00:00.000000000', '2000-03-01T00:00:00.000000000',\n",
       "       '1995-02-01T00:00:00.000000000', '2001-07-01T00:00:00.000000000',\n",
       "       '2002-04-01T00:00:00.000000000', '2006-09-01T00:00:00.000000000',\n",
       "       '1999-05-01T00:00:00.000000000', '1998-08-01T00:00:00.000000000',\n",
       "       '2005-12-01T00:00:00.000000000', '2004-05-01T00:00:00.000000000',\n",
       "       '2001-10-01T00:00:00.000000000', '1983-06-01T00:00:00.000000000',\n",
       "       '1986-03-01T00:00:00.000000000', '1980-04-01T00:00:00.000000000',\n",
       "       '2004-07-01T00:00:00.000000000', '2008-07-01T00:00:00.000000000',\n",
       "       '1996-05-01T00:00:00.000000000', '2004-01-01T00:00:00.000000000',\n",
       "       '2002-11-01T00:00:00.000000000', '2002-08-01T00:00:00.000000000',\n",
       "       '2001-08-01T00:00:00.000000000', '1991-03-01T00:00:00.000000000',\n",
       "       '1989-09-01T00:00:00.000000000', '1994-09-01T00:00:00.000000000',\n",
       "       '2003-09-01T00:00:00.000000000', '1999-09-01T00:00:00.000000000',\n",
       "       '2005-08-01T00:00:00.000000000', '1986-12-01T00:00:00.000000000',\n",
       "       '1998-11-01T00:00:00.000000000', '2006-02-01T00:00:00.000000000',\n",
       "       '1994-05-01T00:00:00.000000000', '2007-11-01T00:00:00.000000000',\n",
       "       '1993-02-01T00:00:00.000000000', '1991-11-01T00:00:00.000000000',\n",
       "       '2005-05-01T00:00:00.000000000', '1973-12-01T00:00:00.000000000',\n",
       "       '2001-05-01T00:00:00.000000000', '1990-03-01T00:00:00.000000000',\n",
       "       '1996-03-01T00:00:00.000000000', '1979-10-01T00:00:00.000000000',\n",
       "       '1981-06-01T00:00:00.000000000', '2001-03-01T00:00:00.000000000',\n",
       "       '2001-04-01T00:00:00.000000000', '1999-06-01T00:00:00.000000000',\n",
       "       '1993-11-01T00:00:00.000000000', '2006-01-01T00:00:00.000000000',\n",
       "       '1997-12-01T00:00:00.000000000', '1994-11-01T00:00:00.000000000',\n",
       "       '1997-07-01T00:00:00.000000000', '1991-10-01T00:00:00.000000000',\n",
       "       '1994-06-01T00:00:00.000000000', '2006-03-01T00:00:00.000000000',\n",
       "       '1996-09-01T00:00:00.000000000', '1991-04-01T00:00:00.000000000',\n",
       "       '1993-07-01T00:00:00.000000000', '1995-01-01T00:00:00.000000000',\n",
       "       '1987-09-01T00:00:00.000000000', '2003-03-01T00:00:00.000000000',\n",
       "       '1999-10-01T00:00:00.000000000', '1996-07-01T00:00:00.000000000',\n",
       "       '2003-12-01T00:00:00.000000000', '1988-08-01T00:00:00.000000000',\n",
       "       '1992-01-01T00:00:00.000000000', '1998-03-01T00:00:00.000000000',\n",
       "       '2007-02-01T00:00:00.000000000', '1982-08-01T00:00:00.000000000',\n",
       "       '1995-03-01T00:00:00.000000000', '1992-12-01T00:00:00.000000000',\n",
       "       '1998-07-01T00:00:00.000000000', '1989-07-01T00:00:00.000000000',\n",
       "       '1990-05-01T00:00:00.000000000', '1994-07-01T00:00:00.000000000',\n",
       "       '2001-09-01T00:00:00.000000000', '1984-03-01T00:00:00.000000000',\n",
       "       '2003-08-01T00:00:00.000000000', '1999-11-01T00:00:00.000000000',\n",
       "       '2007-03-01T00:00:00.000000000', '2008-03-01T00:00:00.000000000',\n",
       "       '1994-04-01T00:00:00.000000000', '2005-01-01T00:00:00.000000000',\n",
       "       '1986-07-01T00:00:00.000000000', '1990-08-01T00:00:00.000000000',\n",
       "       '1992-05-01T00:00:00.000000000', '2000-07-01T00:00:00.000000000',\n",
       "       '1988-03-01T00:00:00.000000000', '1983-05-01T00:00:00.000000000',\n",
       "       '1993-04-01T00:00:00.000000000', '1978-07-01T00:00:00.000000000',\n",
       "       '2000-02-01T00:00:00.000000000', '1981-12-01T00:00:00.000000000',\n",
       "       '1992-03-01T00:00:00.000000000', '1981-01-01T00:00:00.000000000',\n",
       "       '1990-09-01T00:00:00.000000000', '1998-06-01T00:00:00.000000000',\n",
       "       '1993-05-01T00:00:00.000000000', '1996-11-01T00:00:00.000000000',\n",
       "       '2002-03-01T00:00:00.000000000', '1988-01-01T00:00:00.000000000',\n",
       "       '1997-08-01T00:00:00.000000000', '1987-08-01T00:00:00.000000000',\n",
       "       '2008-08-01T00:00:00.000000000', '1994-10-01T00:00:00.000000000',\n",
       "       '1986-10-01T00:00:00.000000000', '1994-02-01T00:00:00.000000000',\n",
       "       '1996-06-01T00:00:00.000000000', '1998-02-01T00:00:00.000000000',\n",
       "       '2008-11-01T00:00:00.000000000', '1998-04-01T00:00:00.000000000',\n",
       "       '1979-07-01T00:00:00.000000000', '1993-01-01T00:00:00.000000000',\n",
       "       '1987-05-01T00:00:00.000000000', '1971-07-01T00:00:00.000000000',\n",
       "       '2007-08-01T00:00:00.000000000', '1997-06-01T00:00:00.000000000',\n",
       "       '1980-03-01T00:00:00.000000000', '2006-12-01T00:00:00.000000000',\n",
       "       '2007-07-01T00:00:00.000000000', '1995-10-01T00:00:00.000000000',\n",
       "       '1991-07-01T00:00:00.000000000', '1992-07-01T00:00:00.000000000',\n",
       "       '1972-12-01T00:00:00.000000000', '1993-12-01T00:00:00.000000000',\n",
       "       '1999-01-01T00:00:00.000000000', '2003-02-01T00:00:00.000000000',\n",
       "       '1997-04-01T00:00:00.000000000', '1995-12-01T00:00:00.000000000',\n",
       "       '1996-04-01T00:00:00.000000000', '1990-07-01T00:00:00.000000000',\n",
       "       '1970-03-01T00:00:00.000000000', '1984-11-01T00:00:00.000000000',\n",
       "       '1984-04-01T00:00:00.000000000', '1984-07-01T00:00:00.000000000',\n",
       "       '1995-08-01T00:00:00.000000000', '1999-03-01T00:00:00.000000000',\n",
       "       '1988-09-01T00:00:00.000000000', '1989-03-01T00:00:00.000000000',\n",
       "       '1987-03-01T00:00:00.000000000', '1997-10-01T00:00:00.000000000',\n",
       "       '1980-12-01T00:00:00.000000000', '1994-01-01T00:00:00.000000000',\n",
       "       '1995-09-01T00:00:00.000000000', '2005-03-01T00:00:00.000000000',\n",
       "       '1989-01-01T00:00:00.000000000', '1992-02-01T00:00:00.000000000',\n",
       "       '1990-01-01T00:00:00.000000000', '1990-11-01T00:00:00.000000000',\n",
       "       '1969-03-01T00:00:00.000000000', '1975-06-01T00:00:00.000000000',\n",
       "       '1985-03-01T00:00:00.000000000', '2007-12-01T00:00:00.000000000',\n",
       "       '1993-10-01T00:00:00.000000000', '1989-12-01T00:00:00.000000000',\n",
       "       '1980-09-01T00:00:00.000000000', '1988-06-01T00:00:00.000000000',\n",
       "       '1978-05-01T00:00:00.000000000', '1973-04-01T00:00:00.000000000',\n",
       "       '1989-08-01T00:00:00.000000000', '1990-10-01T00:00:00.000000000',\n",
       "       '1991-09-01T00:00:00.000000000', '1982-02-01T00:00:00.000000000',\n",
       "       '1987-02-01T00:00:00.000000000', '1985-11-01T00:00:00.000000000',\n",
       "       '1984-01-01T00:00:00.000000000', '1988-07-01T00:00:00.000000000',\n",
       "       '2008-05-01T00:00:00.000000000', '1985-10-01T00:00:00.000000000',\n",
       "       '1983-03-01T00:00:00.000000000', '1991-08-01T00:00:00.000000000',\n",
       "       '1986-09-01T00:00:00.000000000', '1990-06-01T00:00:00.000000000',\n",
       "       '1986-02-01T00:00:00.000000000', '1997-09-01T00:00:00.000000000',\n",
       "       '1984-06-01T00:00:00.000000000', '1981-09-01T00:00:00.000000000',\n",
       "       '1986-04-01T00:00:00.000000000', '1979-08-01T00:00:00.000000000',\n",
       "       '1980-08-01T00:00:00.000000000', '1992-11-01T00:00:00.000000000',\n",
       "       '1993-09-01T00:00:00.000000000', '1987-06-01T00:00:00.000000000',\n",
       "       '1982-09-01T00:00:00.000000000', '1992-08-01T00:00:00.000000000',\n",
       "       '1985-08-01T00:00:00.000000000', '1983-07-01T00:00:00.000000000',\n",
       "       '1991-06-01T00:00:00.000000000', '1983-12-01T00:00:00.000000000',\n",
       "       '1987-01-01T00:00:00.000000000', '1978-11-01T00:00:00.000000000',\n",
       "       '1984-10-01T00:00:00.000000000', '1996-08-01T00:00:00.000000000',\n",
       "       '1989-11-01T00:00:00.000000000', '1976-09-01T00:00:00.000000000',\n",
       "       '1986-11-01T00:00:00.000000000', '1987-10-01T00:00:00.000000000',\n",
       "       '2008-09-01T00:00:00.000000000', '1977-05-01T00:00:00.000000000',\n",
       "       '1986-05-01T00:00:00.000000000', '1981-03-01T00:00:00.000000000',\n",
       "       '1983-01-01T00:00:00.000000000', '1976-11-01T00:00:00.000000000',\n",
       "       '1979-09-01T00:00:00.000000000', '1983-10-01T00:00:00.000000000',\n",
       "       '2062-09-01T00:00:00.000000000', '1985-06-01T00:00:00.000000000',\n",
       "       '1982-05-01T00:00:00.000000000', '1988-02-01T00:00:00.000000000',\n",
       "       '1992-10-01T00:00:00.000000000', '1983-08-01T00:00:00.000000000',\n",
       "       '1973-06-01T00:00:00.000000000', '1985-04-01T00:00:00.000000000',\n",
       "       '1988-10-01T00:00:00.000000000', '1981-10-01T00:00:00.000000000',\n",
       "       '2068-09-01T00:00:00.000000000', '1974-07-01T00:00:00.000000000',\n",
       "       '1987-11-01T00:00:00.000000000', '1995-05-01T00:00:00.000000000',\n",
       "       '1991-02-01T00:00:00.000000000', '1988-11-01T00:00:00.000000000',\n",
       "       '1993-03-01T00:00:00.000000000', '2008-06-01T00:00:00.000000000',\n",
       "       '1980-07-01T00:00:00.000000000', '1982-12-01T00:00:00.000000000',\n",
       "       '1975-03-01T00:00:00.000000000', '1980-02-01T00:00:00.000000000',\n",
       "       '1988-04-01T00:00:00.000000000', '1979-12-01T00:00:00.000000000',\n",
       "       '1985-09-01T00:00:00.000000000', '1971-09-01T00:00:00.000000000',\n",
       "       '1978-03-01T00:00:00.000000000', '2008-02-01T00:00:00.000000000',\n",
       "       '1978-08-01T00:00:00.000000000', '1970-11-01T00:00:00.000000000',\n",
       "       '1979-06-01T00:00:00.000000000', '1980-06-01T00:00:00.000000000',\n",
       "       '1989-04-01T00:00:00.000000000', '1983-09-01T00:00:00.000000000',\n",
       "       '1989-02-01T00:00:00.000000000', '1983-11-01T00:00:00.000000000',\n",
       "       '1986-06-01T00:00:00.000000000', '1982-10-01T00:00:00.000000000',\n",
       "       '1986-08-01T00:00:00.000000000', '1980-10-01T00:00:00.000000000',\n",
       "       '1988-05-01T00:00:00.000000000', '1985-12-01T00:00:00.000000000',\n",
       "       '1982-01-01T00:00:00.000000000', '1977-09-01T00:00:00.000000000',\n",
       "       '1976-12-01T00:00:00.000000000', '1982-04-01T00:00:00.000000000',\n",
       "       '1984-05-01T00:00:00.000000000', '2008-04-01T00:00:00.000000000',\n",
       "       '1979-02-01T00:00:00.000000000', '2008-01-01T00:00:00.000000000',\n",
       "       '2064-09-01T00:00:00.000000000', '1987-07-01T00:00:00.000000000',\n",
       "       '1978-01-01T00:00:00.000000000', '1989-05-01T00:00:00.000000000',\n",
       "       '1977-10-01T00:00:00.000000000', '1975-12-01T00:00:00.000000000',\n",
       "       '1985-02-01T00:00:00.000000000', '2008-10-01T00:00:00.000000000',\n",
       "       '1982-11-01T00:00:00.000000000', '1975-05-01T00:00:00.000000000',\n",
       "       '1985-05-01T00:00:00.000000000', '1971-02-01T00:00:00.000000000',\n",
       "       '1977-06-01T00:00:00.000000000', '1981-04-01T00:00:00.000000000',\n",
       "       '1979-05-01T00:00:00.000000000', '1972-01-01T00:00:00.000000000',\n",
       "       '2067-09-01T00:00:00.000000000', '1978-04-01T00:00:00.000000000',\n",
       "       '2065-02-01T00:00:00.000000000', '1983-04-01T00:00:00.000000000',\n",
       "       '1975-11-01T00:00:00.000000000', '2067-06-01T00:00:00.000000000',\n",
       "       '1974-03-01T00:00:00.000000000', '1972-07-01T00:00:00.000000000',\n",
       "       '2067-08-01T00:00:00.000000000', '1971-04-01T00:00:00.000000000',\n",
       "       '1984-09-01T00:00:00.000000000', '1981-05-01T00:00:00.000000000',\n",
       "       '1970-12-01T00:00:00.000000000', '1973-10-01T00:00:00.000000000',\n",
       "       '1971-01-01T00:00:00.000000000', '2063-12-01T00:00:00.000000000',\n",
       "       '1974-04-01T00:00:00.000000000', '1980-01-01T00:00:00.000000000',\n",
       "       '1969-08-01T00:00:00.000000000', '1975-04-01T00:00:00.000000000',\n",
       "       '1977-07-01T00:00:00.000000000', '1977-03-01T00:00:00.000000000',\n",
       "       '1969-11-01T00:00:00.000000000', '1976-01-01T00:00:00.000000000',\n",
       "       '1982-03-01T00:00:00.000000000', '1987-04-01T00:00:00.000000000',\n",
       "       '1969-12-01T00:00:00.000000000', '1974-05-01T00:00:00.000000000',\n",
       "       '1974-08-01T00:00:00.000000000', '1972-06-01T00:00:00.000000000',\n",
       "       '2063-03-01T00:00:00.000000000', '1979-11-01T00:00:00.000000000',\n",
       "       '1975-08-01T00:00:00.000000000', '1974-09-01T00:00:00.000000000',\n",
       "       '1981-08-01T00:00:00.000000000', '1973-05-01T00:00:00.000000000',\n",
       "       '1973-09-01T00:00:00.000000000', '1973-03-01T00:00:00.000000000',\n",
       "       '1977-12-01T00:00:00.000000000', '1976-10-01T00:00:00.000000000',\n",
       "       '1974-01-01T00:00:00.000000000', '1970-01-01T00:00:00.000000000',\n",
       "       '2068-08-01T00:00:00.000000000', '1976-02-01T00:00:00.000000000',\n",
       "       '1975-01-01T00:00:00.000000000', '1972-10-01T00:00:00.000000000',\n",
       "       '1974-12-01T00:00:00.000000000', '1973-02-01T00:00:00.000000000',\n",
       "       '2065-11-01T00:00:00.000000000', '1972-03-01T00:00:00.000000000',\n",
       "       '1982-06-01T00:00:00.000000000', '1974-06-01T00:00:00.000000000',\n",
       "       '2065-05-01T00:00:00.000000000', '1971-06-01T00:00:00.000000000',\n",
       "       '1970-10-01T00:00:00.000000000', '1976-04-01T00:00:00.000000000',\n",
       "       '1971-10-01T00:00:00.000000000', '1977-04-01T00:00:00.000000000',\n",
       "       '1978-09-01T00:00:00.000000000', '1978-10-01T00:00:00.000000000',\n",
       "       '2054-10-01T00:00:00.000000000', '1981-02-01T00:00:00.000000000',\n",
       "       '1977-01-01T00:00:00.000000000', '1977-08-01T00:00:00.000000000',\n",
       "       '1978-12-01T00:00:00.000000000', '1976-08-01T00:00:00.000000000',\n",
       "       '2068-06-01T00:00:00.000000000', '1978-06-01T00:00:00.000000000',\n",
       "       '1969-06-01T00:00:00.000000000', '1980-05-01T00:00:00.000000000',\n",
       "       '1979-01-01T00:00:00.000000000', '2065-10-01T00:00:00.000000000',\n",
       "       '1974-11-01T00:00:00.000000000', '2066-04-01T00:00:00.000000000',\n",
       "       '1976-06-01T00:00:00.000000000', '1972-02-01T00:00:00.000000000',\n",
       "       '1976-05-01T00:00:00.000000000', '2068-03-01T00:00:00.000000000',\n",
       "       '1976-03-01T00:00:00.000000000', '1970-07-01T00:00:00.000000000',\n",
       "       '1979-03-01T00:00:00.000000000', '1976-07-01T00:00:00.000000000',\n",
       "       '1982-07-01T00:00:00.000000000', '2065-09-01T00:00:00.000000000',\n",
       "       '2067-04-01T00:00:00.000000000', '2063-10-01T00:00:00.000000000',\n",
       "       '1970-02-01T00:00:00.000000000', '1973-07-01T00:00:00.000000000',\n",
       "       '1978-02-01T00:00:00.000000000', '1971-11-01T00:00:00.000000000',\n",
       "       '1972-08-01T00:00:00.000000000', '1975-07-01T00:00:00.000000000',\n",
       "       '1970-09-01T00:00:00.000000000', '1981-07-01T00:00:00.000000000',\n",
       "       '2064-10-01T00:00:00.000000000', '1972-09-01T00:00:00.000000000',\n",
       "       '1970-05-01T00:00:00.000000000', '2063-05-01T00:00:00.000000000',\n",
       "       '1969-02-01T00:00:00.000000000', '1980-11-01T00:00:00.000000000',\n",
       "       '2067-07-01T00:00:00.000000000', '1970-04-01T00:00:00.000000000',\n",
       "       '1977-11-01T00:00:00.000000000', '2066-11-01T00:00:00.000000000',\n",
       "       '1971-05-01T00:00:00.000000000', '1979-04-01T00:00:00.000000000',\n",
       "       '1972-05-01T00:00:00.000000000', '2068-02-01T00:00:00.000000000',\n",
       "       '2064-07-01T00:00:00.000000000', '2067-11-01T00:00:00.000000000',\n",
       "       '2064-04-01T00:00:00.000000000', '1975-02-01T00:00:00.000000000',\n",
       "       '2059-06-01T00:00:00.000000000', '2056-09-01T00:00:00.000000000',\n",
       "       '2066-06-01T00:00:00.000000000', '2046-01-01T00:00:00.000000000',\n",
       "       '2066-03-01T00:00:00.000000000', '2063-01-01T00:00:00.000000000',\n",
       "       '2050-12-01T00:00:00.000000000', '1969-07-01T00:00:00.000000000',\n",
       "       '2068-01-01T00:00:00.000000000', '1973-11-01T00:00:00.000000000',\n",
       "       '1970-06-01T00:00:00.000000000', '1977-02-01T00:00:00.000000000',\n",
       "       '1974-02-01T00:00:00.000000000', '1973-01-01T00:00:00.000000000',\n",
       "       '2066-02-01T00:00:00.000000000', '2061-12-01T00:00:00.000000000',\n",
       "       '1973-08-01T00:00:00.000000000', '1970-08-01T00:00:00.000000000',\n",
       "       '1969-09-01T00:00:00.000000000', '1975-09-01T00:00:00.000000000',\n",
       "       '2068-12-01T00:00:00.000000000', '2054-11-01T00:00:00.000000000',\n",
       "       '1969-10-01T00:00:00.000000000', '2065-12-01T00:00:00.000000000',\n",
       "       '1972-04-01T00:00:00.000000000', '1972-11-01T00:00:00.000000000',\n",
       "       '2063-09-01T00:00:00.000000000', '1969-04-01T00:00:00.000000000',\n",
       "       '2062-11-01T00:00:00.000000000', '2067-10-01T00:00:00.000000000',\n",
       "       '2067-05-01T00:00:00.000000000', '2061-11-01T00:00:00.000000000',\n",
       "       '2067-02-01T00:00:00.000000000', '2068-11-01T00:00:00.000000000',\n",
       "       '1975-10-01T00:00:00.000000000', '1971-03-01T00:00:00.000000000',\n",
       "       '1971-08-01T00:00:00.000000000', '2066-12-01T00:00:00.000000000',\n",
       "       '2068-10-01T00:00:00.000000000', '1974-10-01T00:00:00.000000000',\n",
       "       '2063-11-01T00:00:00.000000000', '2068-04-01T00:00:00.000000000',\n",
       "       '1969-05-01T00:00:00.000000000', '2059-11-01T00:00:00.000000000',\n",
       "                                 'NaT', '2010-10-01T00:00:00.000000000',\n",
       "       '2009-12-01T00:00:00.000000000', '2010-11-01T00:00:00.000000000',\n",
       "       '2010-01-01T00:00:00.000000000', '2008-12-01T00:00:00.000000000',\n",
       "       '2009-09-01T00:00:00.000000000', '2010-07-01T00:00:00.000000000',\n",
       "       '2009-01-01T00:00:00.000000000', '2009-05-01T00:00:00.000000000',\n",
       "       '2010-05-01T00:00:00.000000000', '2010-09-01T00:00:00.000000000',\n",
       "       '2009-04-01T00:00:00.000000000', '2009-11-01T00:00:00.000000000',\n",
       "       '2010-04-01T00:00:00.000000000', '2009-03-01T00:00:00.000000000',\n",
       "       '2009-02-01T00:00:00.000000000', '2009-08-01T00:00:00.000000000',\n",
       "       '2009-10-01T00:00:00.000000000', '2009-06-01T00:00:00.000000000',\n",
       "       '2010-06-01T00:00:00.000000000', '2009-07-01T00:00:00.000000000',\n",
       "       '2010-02-01T00:00:00.000000000', '2010-03-01T00:00:00.000000000',\n",
       "       '2010-08-01T00:00:00.000000000', '2061-01-01T00:00:00.000000000',\n",
       "       '2062-10-01T00:00:00.000000000', '2064-06-01T00:00:00.000000000',\n",
       "       '2062-04-01T00:00:00.000000000', '2060-01-01T00:00:00.000000000',\n",
       "       '2066-09-01T00:00:00.000000000', '2065-03-01T00:00:00.000000000',\n",
       "       '2068-05-01T00:00:00.000000000', '2066-07-01T00:00:00.000000000',\n",
       "       '2056-12-01T00:00:00.000000000', '1971-12-01T00:00:00.000000000',\n",
       "       '2065-04-01T00:00:00.000000000', '2064-01-01T00:00:00.000000000',\n",
       "       '2065-07-01T00:00:00.000000000', '2065-01-01T00:00:00.000000000',\n",
       "       '2062-01-01T00:00:00.000000000', '2064-08-01T00:00:00.000000000',\n",
       "       '1969-01-01T00:00:00.000000000', '2066-10-01T00:00:00.000000000',\n",
       "       '2062-06-01T00:00:00.000000000', '2067-12-01T00:00:00.000000000',\n",
       "       '2060-10-01T00:00:00.000000000', '2062-07-01T00:00:00.000000000',\n",
       "       '2060-12-01T00:00:00.000000000', '2060-07-01T00:00:00.000000000',\n",
       "       '2065-06-01T00:00:00.000000000', '2066-05-01T00:00:00.000000000',\n",
       "       '2057-10-01T00:00:00.000000000', '2065-08-01T00:00:00.000000000',\n",
       "       '2060-05-01T00:00:00.000000000', '2067-01-01T00:00:00.000000000',\n",
       "       '2053-11-01T00:00:00.000000000', '2059-10-01T00:00:00.000000000',\n",
       "       '2063-06-01T00:00:00.000000000', '2067-03-01T00:00:00.000000000',\n",
       "       '2063-07-01T00:00:00.000000000', '2060-11-01T00:00:00.000000000',\n",
       "       '2062-03-01T00:00:00.000000000', '2064-03-01T00:00:00.000000000',\n",
       "       '2068-07-01T00:00:00.000000000', '2063-02-01T00:00:00.000000000',\n",
       "       '2066-01-01T00:00:00.000000000', '2064-12-01T00:00:00.000000000',\n",
       "       '2064-05-01T00:00:00.000000000', '2061-10-01T00:00:00.000000000',\n",
       "       '2060-08-01T00:00:00.000000000', '2060-03-01T00:00:00.000000000',\n",
       "       '2055-04-01T00:00:00.000000000', '2059-09-01T00:00:00.000000000',\n",
       "       '2066-08-01T00:00:00.000000000', '2055-07-01T00:00:00.000000000',\n",
       "       '2061-08-01T00:00:00.000000000', '2064-11-01T00:00:00.000000000',\n",
       "       '2053-05-01T00:00:00.000000000', '2050-11-01T00:00:00.000000000',\n",
       "       '2055-11-01T00:00:00.000000000', '2061-03-01T00:00:00.000000000',\n",
       "       '2057-02-01T00:00:00.000000000', '2063-08-01T00:00:00.000000000',\n",
       "       '2060-02-01T00:00:00.000000000', '2060-09-01T00:00:00.000000000',\n",
       "       '2064-02-01T00:00:00.000000000', '2051-12-01T00:00:00.000000000',\n",
       "       '2058-11-01T00:00:00.000000000', '2062-08-01T00:00:00.000000000',\n",
       "       '2058-10-01T00:00:00.000000000', '2062-05-01T00:00:00.000000000',\n",
       "       '2011-03-01T00:00:00.000000000', '2011-06-01T00:00:00.000000000',\n",
       "       '2010-12-01T00:00:00.000000000', '2011-10-01T00:00:00.000000000',\n",
       "       '2011-09-01T00:00:00.000000000', '2011-07-01T00:00:00.000000000',\n",
       "       '2011-04-01T00:00:00.000000000', '2011-05-01T00:00:00.000000000',\n",
       "       '2011-01-01T00:00:00.000000000', '2011-02-01T00:00:00.000000000',\n",
       "       '2011-08-01T00:00:00.000000000', '2063-04-01T00:00:00.000000000',\n",
       "       '2011-11-01T00:00:00.000000000', '2058-12-01T00:00:00.000000000',\n",
       "       '2058-01-01T00:00:00.000000000', '2059-07-01T00:00:00.000000000',\n",
       "       '2055-01-01T00:00:00.000000000', '2059-05-01T00:00:00.000000000',\n",
       "       '2046-08-01T00:00:00.000000000', '2061-04-01T00:00:00.000000000',\n",
       "       '2058-06-01T00:00:00.000000000', '2058-07-01T00:00:00.000000000',\n",
       "       '2060-06-01T00:00:00.000000000', '2051-01-01T00:00:00.000000000',\n",
       "       '2062-12-01T00:00:00.000000000', '2059-03-01T00:00:00.000000000',\n",
       "       '2058-08-01T00:00:00.000000000', '2059-01-01T00:00:00.000000000',\n",
       "       '2061-02-01T00:00:00.000000000', '2057-09-01T00:00:00.000000000',\n",
       "       '2049-06-01T00:00:00.000000000', '2061-06-01T00:00:00.000000000',\n",
       "       '2056-01-01T00:00:00.000000000', '2054-01-01T00:00:00.000000000',\n",
       "       '2057-01-01T00:00:00.000000000', '2044-01-01T00:00:00.000000000',\n",
       "       '2050-10-01T00:00:00.000000000', '2048-01-01T00:00:00.000000000',\n",
       "       '2061-07-01T00:00:00.000000000', '2058-05-01T00:00:00.000000000',\n",
       "       '2053-01-01T00:00:00.000000000', '2050-05-01T00:00:00.000000000',\n",
       "       '2056-11-01T00:00:00.000000000'], dtype='datetime64[ns]')"
      ]
     },
     "execution_count": 20,
     "metadata": {},
     "output_type": "execute_result"
    }
   ],
   "source": [
    "data_raw['earliest_cr_line_date'] = pd.to_datetime(data_raw['earliest_cr_line'], format='%b-%y')\n",
    "data_raw['earliest_cr_line_date'].unique()"
   ]
  },
  {
   "cell_type": "code",
   "execution_count": 21,
   "id": "fd246ad2",
   "metadata": {},
   "outputs": [
    {
     "data": {
      "text/plain": [
       "array([ 395.,  224.,  193.,  262.,  263.,  157.,  149.,  131.,  164.,\n",
       "        159.,  239.,  338.,  173.,  319.,  123.,  230.,  292.,  170.,\n",
       "        203.,  241.,  418.,  389.,  176.,  198.,  190.,  400.,  133.,\n",
       "        360.,  433.,  250.,  152.,  122.,  204.,  128.,  192.,  179.,\n",
       "        285.,  231.,  162.,  265.,  221.,  270.,  303.,  191.,  308.,\n",
       "        134.,  211.,  228.,  156.,  206.,  187.,  139.,  185.,  137.,\n",
       "        247.,  146.,  272.,  182.,  215.,  212.,  276.,  147.,  396.,\n",
       "        216.,  169.,  342.,  174.,  254.,  175.,  186.,  126.,  252.,\n",
       "        406.,  183.,  383.,  235.,  251.,  150.,  334.,  165.,  269.,\n",
       "        280.,  306.,  249.,  140.,  332.,  220.,  207.,  202.,  348.,\n",
       "        226.,  312.,  208.,  158.,  160.,  154.,  145.,  205.,  127.,\n",
       "        323.,  210.,  136.,  180.,  294.,  138.,  166.,  324.,  213.,\n",
       "        274.,  197.,  188.,  135.,  223.,  232.,  144.,  163.,  194.,\n",
       "        414.,  381.,  452.,  161.,  113.,  259.,  167.,  181.,  184.,\n",
       "        196.,  321.,  339.,  279.,  171.,  219.,  148.,  372.,  229.,\n",
       "        142.,  283.,  121.,  298.,  313.,  151.,  528.,  199.,  333.,\n",
       "        261.,  458.,  438.,  201.,  200.,  222.,  289.,  143.,  240.,\n",
       "        277.,  245.,  314.,  282.,  141.,  255.,  320.,  293.,  275.,\n",
       "        363.,  177.,  218.,  257.,  168.,  352.,  311.,  237.,  130.,\n",
       "        424.,  273.,  300.,  233.,  341.,  331.,  281.,  195.,  405.,\n",
       "        172.,  217.,  129.,  117.,  284.,  155.,  377.,  328.,  307.,\n",
       "        209.,  357.,  415.,  296.,  473.,  214.,  432.,  309.,  443.,\n",
       "        327.,  234.,  295.,  253.,  189.,  359.,  244.,  364.,  112.,\n",
       "        278.,  374.,  286.,  258.,  238.,  109.,  236.,  461.,  299.,\n",
       "        367.,  557.,  124.,  246.,  453.,  132.,  125.,  266.,  317.,\n",
       "        305.,  540.,  288.,  227.,  178.,  248.,  264.,  260.,  329.,\n",
       "        573.,  397.,  404.,  401.,  268.,  225.,  351.,  345.,  369.,\n",
       "        242.,  444.,  287.,  267.,  153.,  347.,  310.,  335.,  325.,\n",
       "        585.,  510.,  393.,  120.,  290.,  336.,  447.,  354.,  475.,\n",
       "        536.,  340.,  326.,  315.,  430.,  370.,  385.,  407.,  353.,\n",
       "        115.,  386.,  417.,  316.,  375.,  330.,  382.,  243.,  402.,\n",
       "        435.,  380.,  460.,  448.,  301.,  291.,  366.,  423.,  304.,\n",
       "        388.,  413.,  318.,  408.,  371.,  469.,  398.,  256.,  337.,\n",
       "        495.,  373.,  362.,  111.,  487.,  379.,  441.,  419.,  493.,\n",
       "        459.,  410., -537.,  390.,  427.,  358.,  302.,  412.,  534.,\n",
       "        392.,  350.,  434., -609.,  521.,  361.,  271.,  322.,  349.,\n",
       "        297.,  114.,  449.,  420.,  513.,  454.,  356.,  456.,  387.,\n",
       "        555.,  477.,  118.,  472.,  565.,  462.,  450.,  344.,  411.,\n",
       "        346.,  409.,  378.,  422.,  376.,  446.,  355.,  384.,  431.,\n",
       "        483.,  492.,  428.,  403.,  116.,  466.,  119., -561.,  365.,\n",
       "        479.,  343.,  482.,  504.,  394.,  110.,  421.,  511.,  391.,\n",
       "        562.,  486.,  440.,  463.,  551., -597.,  476., -566.,  416.,\n",
       "        505., -594.,  525.,  545., -596.,  560.,  399.,  439.,  564.,\n",
       "        530.,  563., -552.,  524.,  455.,  580.,  512.,  485.,  489.,\n",
       "        577.,  503.,  429.,  368.,  576.,  523.,  520.,  546., -543.,\n",
       "        457.,  508.,  519.,  436.,  535.,  531.,  537.,  480.,  494.,\n",
       "        527.,  575., -608.,  502.,  515.,  542.,  516.,  538., -575.,\n",
       "        549.,  426.,  522., -569.,  558.,  566.,  500.,  554.,  488.,\n",
       "        471.,  470., -442.,  442.,  491.,  484.,  468.,  496., -606.,\n",
       "        474.,  582.,  451.,  467., -574.,  517., -580.,  498.,  550.,\n",
       "        499., -603.,  501.,  569.,  465.,  497.,  425., -573., -592.,\n",
       "       -550.,  574.,  533.,  478.,  553.,  544.,  509.,  567.,  437.,\n",
       "       -562.,  543.,  571., -545.,  586.,  445., -595.,  572.,  481.,\n",
       "       -587.,  559.,  464.,  547., -602., -559., -599., -556.,  514.,\n",
       "       -498., -465., -582., -337., -579., -541., -396.,  581., -601.,\n",
       "        529.,  570.,  490.,  526.,  539., -578., -528.,  532.,  568.,\n",
       "        579.,  507., -612., -443.,  578., -576.,  548.,  541., -549.,\n",
       "        584., -539., -598., -593., -527., -590., -611.,  506.,  561.,\n",
       "        556., -588., -610.,  518., -551., -604.,  583., -503.,   nan,\n",
       "         86.,   96.,   85.,   95.,  108.,   99.,   89.,  107.,  103.,\n",
       "         91.,   87.,  104.,   97.,   92.,  105.,  106.,  100.,   98.,\n",
       "        102.,   90.,  101.,   94.,   93.,   88., -517., -538., -558.,\n",
       "       -532., -505., -585., -567., -605., -583., -468.,  552., -568.,\n",
       "       -553., -571., -565., -529., -560.,  587., -586., -534., -600.,\n",
       "       -514., -535., -516., -511., -570., -581., -478., -572., -509.,\n",
       "       -589., -431., -502., -546., -591., -547., -515., -531., -555.,\n",
       "       -607., -542., -577., -564., -557., -526., -512., -507., -448.,\n",
       "       -501., -584., -451., -524., -563., -425., -395., -455., -519.,\n",
       "       -470., -548., -506., -513., -554., -408., -491., -536., -490.,\n",
       "       -533.,   81.,   78.,   84.,   74.,   75.,   77.,   80.,   79.,\n",
       "         83.,   82.,   76., -544.,   73., -492., -481., -499., -445.,\n",
       "       -497., -344., -520., -486., -487., -510., -397., -540., -495.,\n",
       "       -488., -493., -518., -477., -378., -522., -457., -433., -469.,\n",
       "       -313., -394., -361., -523., -485., -421., -389., -467.])"
      ]
     },
     "execution_count": 21,
     "metadata": {},
     "output_type": "execute_result"
    }
   ],
   "source": [
    "data_raw['mths_since_earliest_cr_line'] = round(pd.to_numeric((pd.to_datetime('2017-12-01') - data_raw['earliest_cr_line_date']) / np.timedelta64(1, 'M')))\n",
    "data_raw['mths_since_earliest_cr_line'].unique()"
   ]
  },
  {
   "cell_type": "markdown",
   "id": "d5e931a9",
   "metadata": {},
   "source": [
    "Menentukan berapa bulan dari tanggal awal kredit hingga 01-12-2017 (reference date) "
   ]
  },
  {
   "cell_type": "code",
   "execution_count": 22,
   "id": "d3877352",
   "metadata": {},
   "outputs": [
    {
     "data": {
      "text/plain": [
       "count    466256.000000\n",
       "mean        239.482430\n",
       "std          93.974829\n",
       "min        -612.000000\n",
       "25%         183.000000\n",
       "50%         225.000000\n",
       "75%         285.000000\n",
       "max         587.000000\n",
       "Name: mths_since_earliest_cr_line, dtype: float64"
      ]
     },
     "execution_count": 22,
     "metadata": {},
     "output_type": "execute_result"
    }
   ],
   "source": [
    "data_raw['mths_since_earliest_cr_line'].describe()"
   ]
  },
  {
   "cell_type": "code",
   "execution_count": 23,
   "id": "30e21c2e",
   "metadata": {},
   "outputs": [
    {
     "data": {
      "text/html": [
       "<div>\n",
       "<style scoped>\n",
       "    .dataframe tbody tr th:only-of-type {\n",
       "        vertical-align: middle;\n",
       "    }\n",
       "\n",
       "    .dataframe tbody tr th {\n",
       "        vertical-align: top;\n",
       "    }\n",
       "\n",
       "    .dataframe thead th {\n",
       "        text-align: right;\n",
       "    }\n",
       "</style>\n",
       "<table border=\"1\" class=\"dataframe\">\n",
       "  <thead>\n",
       "    <tr style=\"text-align: right;\">\n",
       "      <th></th>\n",
       "      <th>earliest_cr_line</th>\n",
       "      <th>earliest_cr_line_date</th>\n",
       "      <th>mths_since_earliest_cr_line</th>\n",
       "    </tr>\n",
       "  </thead>\n",
       "  <tbody>\n",
       "    <tr>\n",
       "      <th>1580</th>\n",
       "      <td>Sep-62</td>\n",
       "      <td>2062-09-01</td>\n",
       "      <td>-537.0</td>\n",
       "    </tr>\n",
       "    <tr>\n",
       "      <th>1770</th>\n",
       "      <td>Sep-68</td>\n",
       "      <td>2068-09-01</td>\n",
       "      <td>-609.0</td>\n",
       "    </tr>\n",
       "    <tr>\n",
       "      <th>2799</th>\n",
       "      <td>Sep-64</td>\n",
       "      <td>2064-09-01</td>\n",
       "      <td>-561.0</td>\n",
       "    </tr>\n",
       "  </tbody>\n",
       "</table>\n",
       "</div>"
      ],
      "text/plain": [
       "     earliest_cr_line earliest_cr_line_date  mths_since_earliest_cr_line\n",
       "1580           Sep-62            2062-09-01                       -537.0\n",
       "1770           Sep-68            2068-09-01                       -609.0\n",
       "2799           Sep-64            2064-09-01                       -561.0"
      ]
     },
     "execution_count": 23,
     "metadata": {},
     "output_type": "execute_result"
    }
   ],
   "source": [
    "data_raw[data_raw['mths_since_earliest_cr_line']<0][['earliest_cr_line', 'earliest_cr_line_date', 'mths_since_earliest_cr_line']].head(3)"
   ]
  },
  {
   "cell_type": "markdown",
   "id": "33d3c038",
   "metadata": {},
   "source": [
    "Minus terjadi karena tahun yang diperkirakan 2062 padahal seharusnya 1962, oleh karena itu nilai nilai yang minus pada kolom mths_since_earliest_cr_line dikali -1"
   ]
  },
  {
   "cell_type": "code",
   "execution_count": 24,
   "id": "8e52e6f0",
   "metadata": {},
   "outputs": [],
   "source": [
    "data_raw.loc[data_raw['mths_since_earliest_cr_line']<0, 'mths_since_earliest_cr_line'] = data_raw['mths_since_earliest_cr_line']*-1"
   ]
  },
  {
   "cell_type": "code",
   "execution_count": 25,
   "id": "4ee0d2c9",
   "metadata": {},
   "outputs": [
    {
     "data": {
      "text/plain": [
       "count    466256.000000\n",
       "mean        242.344858\n",
       "std          86.325372\n",
       "min          73.000000\n",
       "25%         184.000000\n",
       "50%         226.000000\n",
       "75%         285.000000\n",
       "max         612.000000\n",
       "Name: mths_since_earliest_cr_line, dtype: float64"
      ]
     },
     "execution_count": 25,
     "metadata": {},
     "output_type": "execute_result"
    }
   ],
   "source": [
    "data_raw['mths_since_earliest_cr_line'].describe()"
   ]
  },
  {
   "cell_type": "code",
   "execution_count": 26,
   "id": "5fa74fc5",
   "metadata": {},
   "outputs": [],
   "source": [
    "data_raw.drop(['earliest_cr_line', 'earliest_cr_line_date'], axis=1, inplace=True)"
   ]
  },
  {
   "cell_type": "markdown",
   "id": "e1305036",
   "metadata": {},
   "source": [
    "## issue_d"
   ]
  },
  {
   "cell_type": "markdown",
   "id": "ebb6c926",
   "metadata": {},
   "source": [
    "issue_d : Bulan yang didanai oleh pinjaman"
   ]
  },
  {
   "cell_type": "code",
   "execution_count": 27,
   "id": "b6cb8a80",
   "metadata": {},
   "outputs": [],
   "source": [
    "data_raw['issue_d_date'] = pd.to_datetime(data_raw['issue_d'], format='%b-%y')\n",
    "data_raw['mths_since_issue_d'] = round(pd.to_numeric((pd.to_datetime('2017-12-01') - data_raw['issue_d_date']) / np.timedelta64(1, 'M')))"
   ]
  },
  {
   "cell_type": "code",
   "execution_count": 28,
   "id": "9a6e0707",
   "metadata": {},
   "outputs": [
    {
     "data": {
      "text/plain": [
       "count    466285.000000\n",
       "mean         51.255187\n",
       "std          14.340154\n",
       "min          36.000000\n",
       "25%          41.000000\n",
       "50%          47.000000\n",
       "75%          57.000000\n",
       "max         126.000000\n",
       "Name: mths_since_issue_d, dtype: float64"
      ]
     },
     "execution_count": 28,
     "metadata": {},
     "output_type": "execute_result"
    }
   ],
   "source": [
    "data_raw['mths_since_issue_d'].describe()"
   ]
  },
  {
   "cell_type": "code",
   "execution_count": 29,
   "id": "2cd1015a",
   "metadata": {},
   "outputs": [],
   "source": [
    "data_raw.drop(['issue_d', 'issue_d_date'], axis=1, inplace=True)"
   ]
  },
  {
   "cell_type": "markdown",
   "id": "4c1d288b",
   "metadata": {},
   "source": [
    "## last_pymnt_d "
   ]
  },
  {
   "cell_type": "markdown",
   "id": "12b6aa29",
   "metadata": {},
   "source": [
    "last_pymnt_d : Jumlah total pembayaran terakhir yang diterima "
   ]
  },
  {
   "cell_type": "code",
   "execution_count": 30,
   "id": "02ac7ca4",
   "metadata": {},
   "outputs": [],
   "source": [
    "data_raw['last_pymnt_d_date'] = pd.to_datetime(data_raw['last_pymnt_d'], format='%b-%y')\n",
    "data_raw['mths_since_last_pymnt_d'] = round(pd.to_numeric((pd.to_datetime('2017-12-01') - data_raw['last_pymnt_d_date']) / np.timedelta64(1, 'M')))"
   ]
  },
  {
   "cell_type": "code",
   "execution_count": 31,
   "id": "7b9354ab",
   "metadata": {},
   "outputs": [
    {
     "data": {
      "text/plain": [
       "count    465909.000000\n",
       "mean         31.294369\n",
       "std          12.809898\n",
       "min          23.000000\n",
       "25%          23.000000\n",
       "50%          24.000000\n",
       "75%          35.000000\n",
       "max         120.000000\n",
       "Name: mths_since_last_pymnt_d, dtype: float64"
      ]
     },
     "execution_count": 31,
     "metadata": {},
     "output_type": "execute_result"
    }
   ],
   "source": [
    "data_raw['mths_since_last_pymnt_d'].describe()"
   ]
  },
  {
   "cell_type": "code",
   "execution_count": 32,
   "id": "6b13f367",
   "metadata": {},
   "outputs": [],
   "source": [
    "data_raw.drop(['last_pymnt_d', 'last_pymnt_d_date'], axis=1, inplace=True)"
   ]
  },
  {
   "cell_type": "markdown",
   "id": "34038453",
   "metadata": {},
   "source": [
    "## next_pymnt_d "
   ]
  },
  {
   "cell_type": "markdown",
   "id": "60546e97",
   "metadata": {},
   "source": [
    "next_pymnt_d : Tanggal pembayaran terjadwal berikutnya"
   ]
  },
  {
   "cell_type": "code",
   "execution_count": 33,
   "id": "f9d3b749",
   "metadata": {},
   "outputs": [],
   "source": [
    "data_raw['next_pymnt_d_date'] = pd.to_datetime(data_raw['next_pymnt_d'], format='%b-%y')\n",
    "data_raw['mths_since_next_pymnt_d'] = round(pd.to_numeric((pd.to_datetime('2017-12-01') - data_raw['next_pymnt_d_date']) / np.timedelta64(1, 'M')))"
   ]
  },
  {
   "cell_type": "code",
   "execution_count": 34,
   "id": "0417009b",
   "metadata": {},
   "outputs": [
    {
     "data": {
      "text/plain": [
       "count    239071.000000\n",
       "mean         22.738136\n",
       "std           6.082298\n",
       "min          21.000000\n",
       "25%          22.000000\n",
       "50%          22.000000\n",
       "75%          22.000000\n",
       "max         120.000000\n",
       "Name: mths_since_next_pymnt_d, dtype: float64"
      ]
     },
     "execution_count": 34,
     "metadata": {},
     "output_type": "execute_result"
    }
   ],
   "source": [
    "data_raw['mths_since_next_pymnt_d'].describe()"
   ]
  },
  {
   "cell_type": "code",
   "execution_count": 35,
   "id": "866b9b7d",
   "metadata": {},
   "outputs": [],
   "source": [
    "data_raw.drop(['next_pymnt_d', 'next_pymnt_d_date'], axis=1, inplace=True)"
   ]
  },
  {
   "cell_type": "markdown",
   "id": "b0f131ec",
   "metadata": {},
   "source": [
    "## last_credit_pull_d"
   ]
  },
  {
   "cell_type": "code",
   "execution_count": 36,
   "id": "ea87aa01",
   "metadata": {},
   "outputs": [],
   "source": [
    "data_raw['last_credit_pull_d_date'] = pd.to_datetime(data_raw['last_credit_pull_d'], format='%b-%y')\n",
    "data_raw['mths_since_last_credit_pull_d'] = round(pd.to_numeric((pd.to_datetime('2017-12-01') - data_raw['last_credit_pull_d_date']) / np.timedelta64(1, 'M')))"
   ]
  },
  {
   "cell_type": "code",
   "execution_count": 37,
   "id": "28599420",
   "metadata": {},
   "outputs": [
    {
     "data": {
      "text/plain": [
       "count    466243.000000\n",
       "mean         27.045588\n",
       "std           9.636423\n",
       "min          23.000000\n",
       "25%          23.000000\n",
       "50%          23.000000\n",
       "75%          25.000000\n",
       "max         127.000000\n",
       "Name: mths_since_last_credit_pull_d, dtype: float64"
      ]
     },
     "execution_count": 37,
     "metadata": {},
     "output_type": "execute_result"
    }
   ],
   "source": [
    "data_raw['mths_since_last_credit_pull_d'].describe()"
   ]
  },
  {
   "cell_type": "code",
   "execution_count": 38,
   "id": "4729907b",
   "metadata": {},
   "outputs": [],
   "source": [
    "data_raw.drop(['last_credit_pull_d', 'last_credit_pull_d_date'], axis=1, inplace=True)"
   ]
  },
  {
   "cell_type": "markdown",
   "id": "d5c4d29a",
   "metadata": {},
   "source": [
    "# Missing Values "
   ]
  },
  {
   "cell_type": "code",
   "execution_count": 39,
   "id": "27b9432d",
   "metadata": {},
   "outputs": [
    {
     "name": "stdout",
     "output_type": "stream",
     "text": [
      "<class 'pandas.core.frame.DataFrame'>\n",
      "Int64Index: 466285 entries, 0 to 466284\n",
      "Data columns (total 53 columns):\n",
      " #   Column                         Non-Null Count   Dtype  \n",
      "---  ------                         --------------   -----  \n",
      " 0   loan_amnt                      466285 non-null  int64  \n",
      " 1   funded_amnt                    466285 non-null  int64  \n",
      " 2   funded_amnt_inv                466285 non-null  float64\n",
      " 3   int_rate                       466285 non-null  float64\n",
      " 4   installment                    466285 non-null  float64\n",
      " 5   grade                          466285 non-null  object \n",
      " 6   sub_grade                      466285 non-null  object \n",
      " 7   emp_title                      438697 non-null  object \n",
      " 8   home_ownership                 466285 non-null  object \n",
      " 9   annual_inc                     466281 non-null  float64\n",
      " 10  verification_status            466285 non-null  object \n",
      " 11  loan_status                    466285 non-null  object \n",
      " 12  pymnt_plan                     466285 non-null  object \n",
      " 13  url                            466285 non-null  object \n",
      " 14  desc                           125983 non-null  object \n",
      " 15  purpose                        466285 non-null  object \n",
      " 16  title                          466265 non-null  object \n",
      " 17  zip_code                       466285 non-null  object \n",
      " 18  addr_state                     466285 non-null  object \n",
      " 19  dti                            466285 non-null  float64\n",
      " 20  delinq_2yrs                    466256 non-null  float64\n",
      " 21  inq_last_6mths                 466256 non-null  float64\n",
      " 22  mths_since_last_delinq         215934 non-null  float64\n",
      " 23  open_acc                       466256 non-null  float64\n",
      " 24  pub_rec                        466256 non-null  float64\n",
      " 25  revol_bal                      466285 non-null  int64  \n",
      " 26  revol_util                     465945 non-null  float64\n",
      " 27  total_acc                      466256 non-null  float64\n",
      " 28  initial_list_status            466285 non-null  object \n",
      " 29  out_prncp                      466285 non-null  float64\n",
      " 30  out_prncp_inv                  466285 non-null  float64\n",
      " 31  total_pymnt                    466285 non-null  float64\n",
      " 32  total_pymnt_inv                466285 non-null  float64\n",
      " 33  total_rec_prncp                466285 non-null  float64\n",
      " 34  total_rec_int                  466285 non-null  float64\n",
      " 35  total_rec_late_fee             466285 non-null  float64\n",
      " 36  recoveries                     466285 non-null  float64\n",
      " 37  collection_recovery_fee        466285 non-null  float64\n",
      " 38  last_pymnt_amnt                466285 non-null  float64\n",
      " 39  collections_12_mths_ex_med     466140 non-null  float64\n",
      " 40  policy_code                    466285 non-null  int64  \n",
      " 41  application_type               466285 non-null  object \n",
      " 42  acc_now_delinq                 466256 non-null  float64\n",
      " 43  tot_coll_amt                   396009 non-null  float64\n",
      " 44  tot_cur_bal                    396009 non-null  float64\n",
      " 45  total_rev_hi_lim               396009 non-null  float64\n",
      " 46  term_int                       466285 non-null  float64\n",
      " 47  emp_length_int                 445277 non-null  float64\n",
      " 48  mths_since_earliest_cr_line    466256 non-null  float64\n",
      " 49  mths_since_issue_d             466285 non-null  float64\n",
      " 50  mths_since_last_pymnt_d        465909 non-null  float64\n",
      " 51  mths_since_next_pymnt_d        239071 non-null  float64\n",
      " 52  mths_since_last_credit_pull_d  466243 non-null  float64\n",
      "dtypes: float64(34), int64(4), object(15)\n",
      "memory usage: 208.2+ MB\n"
     ]
    }
   ],
   "source": [
    "data_raw.info()"
   ]
  },
  {
   "cell_type": "markdown",
   "id": "f05fe302",
   "metadata": {},
   "source": [
    "## Fill Missing Value "
   ]
  },
  {
   "cell_type": "code",
   "execution_count": 40,
   "id": "72e07d42",
   "metadata": {},
   "outputs": [],
   "source": [
    "data_raw['annual_inc'].fillna(data_raw['annual_inc'].mean(), inplace=True)\n",
    "data_raw['mths_since_earliest_cr_line'].fillna(0, inplace=True)\n",
    "data_raw['acc_now_delinq'].fillna(0, inplace=True)\n",
    "data_raw['total_acc'].fillna(0, inplace=True)\n",
    "data_raw['pub_rec'].fillna(0, inplace=True)\n",
    "data_raw['open_acc'].fillna(0, inplace=True)\n",
    "data_raw['inq_last_6mths'].fillna(0, inplace=True)\n",
    "data_raw['delinq_2yrs'].fillna(0, inplace=True)\n",
    "data_raw['collections_12_mths_ex_med'].fillna(0, inplace=True)\n",
    "data_raw['revol_util'].fillna(0, inplace=True)\n",
    "data_raw['emp_length_int'].fillna(0, inplace=True)\n",
    "data_raw['tot_cur_bal'].fillna(0, inplace=True)\n",
    "data_raw['tot_coll_amt'].fillna(0, inplace=True)\n",
    "data_raw['mths_since_last_delinq'].fillna(-1, inplace=True)"
   ]
  },
  {
   "cell_type": "markdown",
   "id": "63899122",
   "metadata": {},
   "source": [
    "mths_since_last_delinq : Jumlah bulan sejak kenakalan terakhir peminjam (-1 pada kolom ini berarti customer masih membayar dengan baik)"
   ]
  },
  {
   "cell_type": "markdown",
   "id": "d7fb370e",
   "metadata": {},
   "source": [
    "annual_inc : Pendapatan tahunan yang dilaporkan sendiri yang diberikan oleh peminjam saat pendaftaran (di isi nilai rata-rata agar tidak mengubah distribusinya)"
   ]
  },
  {
   "cell_type": "markdown",
   "id": "be9d64bf",
   "metadata": {},
   "source": [
    "## Cleaning Data Kategorikal "
   ]
  },
  {
   "cell_type": "code",
   "execution_count": 41,
   "id": "2ef3598a",
   "metadata": {},
   "outputs": [
    {
     "data": {
      "text/plain": [
       "grade                       7\n",
       "sub_grade                  35\n",
       "emp_title              205475\n",
       "home_ownership              6\n",
       "verification_status         3\n",
       "loan_status                 9\n",
       "pymnt_plan                  2\n",
       "url                    466285\n",
       "desc                   124436\n",
       "purpose                    14\n",
       "title                   63099\n",
       "zip_code                  888\n",
       "addr_state                 50\n",
       "initial_list_status         2\n",
       "application_type            1\n",
       "dtype: int64"
      ]
     },
     "execution_count": 41,
     "metadata": {},
     "output_type": "execute_result"
    }
   ],
   "source": [
    "data_raw.select_dtypes(include='object').nunique()"
   ]
  },
  {
   "cell_type": "markdown",
   "id": "42f6eb8c",
   "metadata": {},
   "source": [
    "Menghapus atribut yang memiliki nilai unik yang sangat banyak dan nilai unik =1 "
   ]
  },
  {
   "cell_type": "code",
   "execution_count": 42,
   "id": "80b96e24",
   "metadata": {},
   "outputs": [],
   "source": [
    "data_raw.drop(['emp_title','url','desc','title','zip_code','application_type'],axis=1,inplace=True)"
   ]
  },
  {
   "cell_type": "markdown",
   "id": "d593e33d",
   "metadata": {},
   "source": [
    "## Cleaning Data Numerik "
   ]
  },
  {
   "cell_type": "code",
   "execution_count": 43,
   "id": "5e7d1427",
   "metadata": {},
   "outputs": [
    {
     "data": {
      "text/plain": [
       "loan_amnt                          1352\n",
       "funded_amnt                        1354\n",
       "funded_amnt_inv                    9854\n",
       "int_rate                            506\n",
       "installment                       55622\n",
       "annual_inc                        31902\n",
       "dti                                3997\n",
       "delinq_2yrs                          24\n",
       "inq_last_6mths                       28\n",
       "mths_since_last_delinq              146\n",
       "open_acc                             62\n",
       "pub_rec                              26\n",
       "revol_bal                         58142\n",
       "revol_util                         1269\n",
       "total_acc                           113\n",
       "out_prncp                        135665\n",
       "out_prncp_inv                    141189\n",
       "total_pymnt                      351609\n",
       "total_pymnt_inv                  347659\n",
       "total_rec_prncp                  172713\n",
       "total_rec_int                    270249\n",
       "total_rec_late_fee                 5808\n",
       "recoveries                        22773\n",
       "collection_recovery_fee           20275\n",
       "last_pymnt_amnt                  198194\n",
       "collections_12_mths_ex_med            9\n",
       "policy_code                           1\n",
       "acc_now_delinq                        6\n",
       "tot_coll_amt                       6321\n",
       "tot_cur_bal                      220690\n",
       "total_rev_hi_lim                  14612\n",
       "term_int                              2\n",
       "emp_length_int                       11\n",
       "mths_since_earliest_cr_line         541\n",
       "mths_since_issue_d                   91\n",
       "mths_since_last_pymnt_d              98\n",
       "mths_since_next_pymnt_d             100\n",
       "mths_since_last_credit_pull_d       103\n",
       "dtype: int64"
      ]
     },
     "execution_count": 43,
     "metadata": {},
     "output_type": "execute_result"
    }
   ],
   "source": [
    "data_raw.select_dtypes(exclude='object').nunique()"
   ]
  },
  {
   "cell_type": "markdown",
   "id": "fabfc001",
   "metadata": {},
   "source": [
    "Menghapus kolom yang hanya memiliki nilai unik = 1"
   ]
  },
  {
   "cell_type": "code",
   "execution_count": 44,
   "id": "3a3c574e",
   "metadata": {},
   "outputs": [],
   "source": [
    "data_raw.drop(['policy_code'],axis=1,inplace=True)"
   ]
  },
  {
   "cell_type": "markdown",
   "id": "bc8d3fed",
   "metadata": {},
   "source": [
    "## Check Inbalace Data"
   ]
  },
  {
   "cell_type": "code",
   "execution_count": 45,
   "id": "62d94f28",
   "metadata": {},
   "outputs": [
    {
     "name": "stdout",
     "output_type": "stream",
     "text": [
      "B    29.365946\n",
      "C    26.870476\n",
      "D    16.489486\n",
      "A    16.056060\n",
      "E     7.668486\n",
      "F     2.837106\n",
      "G     0.712440\n",
      "Name: grade, dtype: float64\n",
      "\n",
      "\n",
      "B3    6.795415\n",
      "B4    6.542136\n",
      "C1    5.780370\n",
      "C2    5.734690\n",
      "B2    5.706810\n",
      "C3    5.429512\n",
      "B5    5.415572\n",
      "C4    5.169585\n",
      "B1    4.906012\n",
      "C5    4.756319\n",
      "A5    4.666030\n",
      "D1    4.130735\n",
      "A4    4.084412\n",
      "D2    3.655704\n",
      "D3    3.198902\n",
      "D4    3.023687\n",
      "A3    2.695347\n",
      "D5    2.480457\n",
      "A2    2.349636\n",
      "A1    2.260635\n",
      "E1    1.937227\n",
      "E2    1.859163\n",
      "E3    1.496081\n",
      "E4    1.285051\n",
      "E5    1.090964\n",
      "F1    0.844977\n",
      "F2    0.643598\n",
      "F3    0.580761\n",
      "F4    0.443291\n",
      "F5    0.324480\n",
      "G1    0.237837\n",
      "G2    0.176501\n",
      "G3    0.125031\n",
      "G4    0.090503\n",
      "G5    0.082568\n",
      "Name: sub_grade, dtype: float64\n",
      "\n",
      "\n",
      "MORTGAGE    50.586015\n",
      "RENT        40.420129\n",
      "OWN          8.943886\n",
      "OTHER        0.039032\n",
      "NONE         0.010723\n",
      "ANY          0.000214\n",
      "Name: home_ownership, dtype: float64\n",
      "\n",
      "\n",
      "Verified           36.041262\n",
      "Source Verified    32.167666\n",
      "Not Verified       31.791072\n",
      "Name: verification_status, dtype: float64\n",
      "\n",
      "\n",
      "Current                                                48.087757\n",
      "Fully Paid                                             39.619332\n",
      "Charged Off                                             9.109236\n",
      "Late (31-120 days)                                      1.479782\n",
      "In Grace Period                                         0.674695\n",
      "Does not meet the credit policy. Status:Fully Paid      0.426349\n",
      "Late (16-30 days)                                       0.261214\n",
      "Default                                                 0.178432\n",
      "Does not meet the credit policy. Status:Charged Off     0.163205\n",
      "Name: loan_status, dtype: float64\n",
      "\n",
      "\n",
      "n    99.99807\n",
      "y     0.00193\n",
      "Name: pymnt_plan, dtype: float64\n",
      "\n",
      "\n",
      "debt_consolidation    58.804165\n",
      "credit_card           22.337626\n",
      "home_improvement       5.691155\n",
      "other                  5.080584\n",
      "major_purchase         2.107724\n",
      "small_business         1.504016\n",
      "car                    1.157447\n",
      "medical                0.986950\n",
      "moving                 0.642097\n",
      "vacation               0.533365\n",
      "wedding                0.502482\n",
      "house                  0.486612\n",
      "educational            0.090503\n",
      "renewable_energy       0.075276\n",
      "Name: purpose, dtype: float64\n",
      "\n",
      "\n",
      "CA    15.323247\n",
      "NY     8.630344\n",
      "TX     7.814748\n",
      "FL     6.784906\n",
      "IL     3.991550\n",
      "NJ     3.873382\n",
      "PA     3.522309\n",
      "OH     3.267744\n",
      "GA     3.211555\n",
      "VA     3.050066\n",
      "NC     2.719796\n",
      "MI     2.476811\n",
      "MA     2.374513\n",
      "MD     2.353496\n",
      "AZ     2.297307\n",
      "WA     2.255488\n",
      "CO     2.088637\n",
      "MN     1.749574\n",
      "MO     1.610174\n",
      "CT     1.544978\n",
      "IN     1.399359\n",
      "NV     1.398072\n",
      "TN     1.283335\n",
      "OR     1.275829\n",
      "WI     1.267680\n",
      "AL     1.255241\n",
      "SC     1.197336\n",
      "LA     1.177177\n",
      "KY     0.951778\n",
      "KS     0.898592\n",
      "OK     0.882936\n",
      "AR     0.748040\n",
      "UT     0.735173\n",
      "NM     0.555025\n",
      "HI     0.533365\n",
      "WV     0.517280\n",
      "NH     0.478677\n",
      "RI     0.439645\n",
      "DC     0.305822\n",
      "MT     0.299388\n",
      "DE     0.272795\n",
      "AK     0.268291\n",
      "MS     0.262929\n",
      "WY     0.241912\n",
      "SD     0.210172\n",
      "VT     0.194087\n",
      "IA     0.003002\n",
      "NE     0.003002\n",
      "ID     0.002574\n",
      "ME     0.000858\n",
      "Name: addr_state, dtype: float64\n",
      "\n",
      "\n",
      "f    64.982789\n",
      "w    35.017211\n",
      "Name: initial_list_status, dtype: float64\n",
      "\n",
      "\n"
     ]
    }
   ],
   "source": [
    "for col in data_raw.select_dtypes(include='object').columns.tolist():\n",
    "    print(data_raw[col].value_counts(normalize=True)*100)\n",
    "    print('\\n')"
   ]
  },
  {
   "cell_type": "markdown",
   "id": "045bb7c6",
   "metadata": {},
   "source": [
    "nilai n pada kolom pymnt_plan terlalu mendominasi sehingga dapat menyebabkan kesalahan pemahaman saat model di train"
   ]
  },
  {
   "cell_type": "code",
   "execution_count": 46,
   "id": "447ae338",
   "metadata": {},
   "outputs": [],
   "source": [
    "data_raw.drop('pymnt_plan',axis=1,inplace=True)"
   ]
  },
  {
   "cell_type": "markdown",
   "id": "0adab0f6",
   "metadata": {},
   "source": [
    "# Labeling Data"
   ]
  },
  {
   "cell_type": "code",
   "execution_count": 47,
   "id": "bc64d312",
   "metadata": {},
   "outputs": [
    {
     "data": {
      "text/plain": [
       "array(['Fully Paid', 'Charged Off', 'Current', 'Default',\n",
       "       'Late (31-120 days)', 'In Grace Period', 'Late (16-30 days)',\n",
       "       'Does not meet the credit policy. Status:Fully Paid',\n",
       "       'Does not meet the credit policy. Status:Charged Off'],\n",
       "      dtype=object)"
      ]
     },
     "execution_count": 47,
     "metadata": {},
     "output_type": "execute_result"
    }
   ],
   "source": [
    "data_raw['loan_status'].unique()"
   ]
  },
  {
   "cell_type": "markdown",
   "id": "37dfc0f0",
   "metadata": {},
   "source": [
    "Menentukan loan_status yang bermakna bahwa status peminjamannya buruk"
   ]
  },
  {
   "cell_type": "code",
   "execution_count": 48,
   "id": "5cc7b87d",
   "metadata": {},
   "outputs": [],
   "source": [
    "bad_status = [\n",
    "    'Charged Off' \n",
    "    , 'Default' \n",
    "    , 'Does not meet the credit policy. Status:Charged Off'\n",
    "    , 'Late (31-120 days)'\n",
    "]\n",
    "\n",
    "data_raw['bad_flag'] = np.where(data_raw['loan_status'].isin(bad_status), 1, 0)"
   ]
  },
  {
   "cell_type": "code",
   "execution_count": 49,
   "id": "b7dbbc9b",
   "metadata": {},
   "outputs": [
    {
     "data": {
      "text/plain": [
       "0    89.069346\n",
       "1    10.930654\n",
       "Name: bad_flag, dtype: float64"
      ]
     },
     "execution_count": 49,
     "metadata": {},
     "output_type": "execute_result"
    }
   ],
   "source": [
    "data_raw['bad_flag'].value_counts(normalize=True)*100"
   ]
  },
  {
   "cell_type": "code",
   "execution_count": 50,
   "id": "95bd2275",
   "metadata": {},
   "outputs": [],
   "source": [
    "data_raw.drop('loan_status', axis=1, inplace=True)"
   ]
  },
  {
   "cell_type": "markdown",
   "id": "a1c29590",
   "metadata": {},
   "source": [
    "# Korelasi"
   ]
  },
  {
   "cell_type": "code",
   "execution_count": 51,
   "id": "2c9196f8",
   "metadata": {},
   "outputs": [
    {
     "data": {
      "text/plain": [
       "<AxesSubplot:>"
      ]
     },
     "execution_count": 51,
     "metadata": {},
     "output_type": "execute_result"
    },
    {
     "data": {
      "image/png": "[encoded data removed]",
      "text/plain": [
       "<Figure size 1440x1440 with 2 Axes>"
      ]
     },
     "metadata": {
      "needs_background": "light"
     },
     "output_type": "display_data"
    }
   ],
   "source": [
    "plt.figure(figsize=(20,20))\n",
    "sns.heatmap(data_raw.corr())"
   ]
  },
  {
   "cell_type": "code",
   "execution_count": 52,
   "id": "e1159bb6",
   "metadata": {},
   "outputs": [
    {
     "name": "stderr",
     "output_type": "stream",
     "text": [
      "C:\\Users\\User\\AppData\\Local\\Temp/ipykernel_8320/1658018118.py:2: DeprecationWarning: `np.bool` is a deprecated alias for the builtin `bool`. To silence this warning, use `bool` by itself. Doing this will not modify any behavior and is safe. If you specifically wanted the numpy scalar type, use `np.bool_` here.\n",
      "Deprecated in NumPy 1.20; for more details and guidance: https://numpy.org/devdocs/release/1.20.0-notes.html#deprecations\n",
      "  upper = corr_matrix.where(np.triu(np.ones(corr_matrix.shape), k=1).astype(np.bool))\n"
     ]
    }
   ],
   "source": [
    "corr_matrix = data_raw.corr().abs()\n",
    "upper = corr_matrix.where(np.triu(np.ones(corr_matrix.shape), k=1).astype(np.bool))\n",
    "drop_hicorr = [column for column in upper.columns if any(upper[column] > 0.7)]"
   ]
  },
  {
   "cell_type": "markdown",
   "id": "04c2e1cf",
   "metadata": {},
   "source": [
    "Membuat list kolom yang memiliki korelasi > 0.7, karena banyaknya kolom yang memiliki korelasi tinggi menyebabkan model menjadi kurang optimal."
   ]
  },
  {
   "cell_type": "code",
   "execution_count": 53,
   "id": "b0eae418",
   "metadata": {},
   "outputs": [
    {
     "data": {
      "text/plain": [
       "['funded_amnt',\n",
       " 'funded_amnt_inv',\n",
       " 'installment',\n",
       " 'out_prncp_inv',\n",
       " 'total_pymnt',\n",
       " 'total_pymnt_inv',\n",
       " 'total_rec_prncp',\n",
       " 'total_rec_int',\n",
       " 'collection_recovery_fee',\n",
       " 'last_pymnt_amnt',\n",
       " 'total_rev_hi_lim',\n",
       " 'mths_since_last_pymnt_d',\n",
       " 'mths_since_next_pymnt_d',\n",
       " 'mths_since_last_credit_pull_d']"
      ]
     },
     "execution_count": 53,
     "metadata": {},
     "output_type": "execute_result"
    }
   ],
   "source": [
    "drop_hicorr"
   ]
  },
  {
   "cell_type": "code",
   "execution_count": 54,
   "id": "7b3f0d9f",
   "metadata": {},
   "outputs": [],
   "source": [
    "data_raw.drop(drop_hicorr,axis=1,inplace=True)"
   ]
  },
  {
   "cell_type": "markdown",
   "id": "97378e01",
   "metadata": {},
   "source": [
    "# Standarisasi dan One-Hot Encoding"
   ]
  },
  {
   "cell_type": "markdown",
   "id": "3d979830",
   "metadata": {},
   "source": [
    "## One-Hot Encoding "
   ]
  },
  {
   "cell_type": "code",
   "execution_count": 55,
   "id": "7abb2892",
   "metadata": {},
   "outputs": [],
   "source": [
    "categorical_cols = [col for col in data_raw.select_dtypes(include='object').columns.tolist()]"
   ]
  },
  {
   "cell_type": "code",
   "execution_count": 56,
   "id": "adc345a7",
   "metadata": {},
   "outputs": [
    {
     "data": {
      "text/html": [
       "<div>\n",
       "<style scoped>\n",
       "    .dataframe tbody tr th:only-of-type {\n",
       "        vertical-align: middle;\n",
       "    }\n",
       "\n",
       "    .dataframe tbody tr th {\n",
       "        vertical-align: top;\n",
       "    }\n",
       "\n",
       "    .dataframe thead th {\n",
       "        text-align: right;\n",
       "    }\n",
       "</style>\n",
       "<table border=\"1\" class=\"dataframe\">\n",
       "  <thead>\n",
       "    <tr style=\"text-align: right;\">\n",
       "      <th></th>\n",
       "      <th>grade_B</th>\n",
       "      <th>grade_C</th>\n",
       "      <th>grade_D</th>\n",
       "      <th>grade_E</th>\n",
       "      <th>grade_F</th>\n",
       "      <th>grade_G</th>\n",
       "      <th>sub_grade_A2</th>\n",
       "      <th>sub_grade_A3</th>\n",
       "      <th>sub_grade_A4</th>\n",
       "      <th>sub_grade_A5</th>\n",
       "      <th>...</th>\n",
       "      <th>addr_state_TN</th>\n",
       "      <th>addr_state_TX</th>\n",
       "      <th>addr_state_UT</th>\n",
       "      <th>addr_state_VA</th>\n",
       "      <th>addr_state_VT</th>\n",
       "      <th>addr_state_WA</th>\n",
       "      <th>addr_state_WI</th>\n",
       "      <th>addr_state_WV</th>\n",
       "      <th>addr_state_WY</th>\n",
       "      <th>initial_list_status_w</th>\n",
       "    </tr>\n",
       "  </thead>\n",
       "  <tbody>\n",
       "    <tr>\n",
       "      <th>0</th>\n",
       "      <td>1</td>\n",
       "      <td>0</td>\n",
       "      <td>0</td>\n",
       "      <td>0</td>\n",
       "      <td>0</td>\n",
       "      <td>0</td>\n",
       "      <td>0</td>\n",
       "      <td>0</td>\n",
       "      <td>0</td>\n",
       "      <td>0</td>\n",
       "      <td>...</td>\n",
       "      <td>0</td>\n",
       "      <td>0</td>\n",
       "      <td>0</td>\n",
       "      <td>0</td>\n",
       "      <td>0</td>\n",
       "      <td>0</td>\n",
       "      <td>0</td>\n",
       "      <td>0</td>\n",
       "      <td>0</td>\n",
       "      <td>0</td>\n",
       "    </tr>\n",
       "    <tr>\n",
       "      <th>1</th>\n",
       "      <td>0</td>\n",
       "      <td>1</td>\n",
       "      <td>0</td>\n",
       "      <td>0</td>\n",
       "      <td>0</td>\n",
       "      <td>0</td>\n",
       "      <td>0</td>\n",
       "      <td>0</td>\n",
       "      <td>0</td>\n",
       "      <td>0</td>\n",
       "      <td>...</td>\n",
       "      <td>0</td>\n",
       "      <td>0</td>\n",
       "      <td>0</td>\n",
       "      <td>0</td>\n",
       "      <td>0</td>\n",
       "      <td>0</td>\n",
       "      <td>0</td>\n",
       "      <td>0</td>\n",
       "      <td>0</td>\n",
       "      <td>0</td>\n",
       "    </tr>\n",
       "    <tr>\n",
       "      <th>2</th>\n",
       "      <td>0</td>\n",
       "      <td>1</td>\n",
       "      <td>0</td>\n",
       "      <td>0</td>\n",
       "      <td>0</td>\n",
       "      <td>0</td>\n",
       "      <td>0</td>\n",
       "      <td>0</td>\n",
       "      <td>0</td>\n",
       "      <td>0</td>\n",
       "      <td>...</td>\n",
       "      <td>0</td>\n",
       "      <td>0</td>\n",
       "      <td>0</td>\n",
       "      <td>0</td>\n",
       "      <td>0</td>\n",
       "      <td>0</td>\n",
       "      <td>0</td>\n",
       "      <td>0</td>\n",
       "      <td>0</td>\n",
       "      <td>0</td>\n",
       "    </tr>\n",
       "    <tr>\n",
       "      <th>3</th>\n",
       "      <td>0</td>\n",
       "      <td>1</td>\n",
       "      <td>0</td>\n",
       "      <td>0</td>\n",
       "      <td>0</td>\n",
       "      <td>0</td>\n",
       "      <td>0</td>\n",
       "      <td>0</td>\n",
       "      <td>0</td>\n",
       "      <td>0</td>\n",
       "      <td>...</td>\n",
       "      <td>0</td>\n",
       "      <td>0</td>\n",
       "      <td>0</td>\n",
       "      <td>0</td>\n",
       "      <td>0</td>\n",
       "      <td>0</td>\n",
       "      <td>0</td>\n",
       "      <td>0</td>\n",
       "      <td>0</td>\n",
       "      <td>0</td>\n",
       "    </tr>\n",
       "    <tr>\n",
       "      <th>4</th>\n",
       "      <td>1</td>\n",
       "      <td>0</td>\n",
       "      <td>0</td>\n",
       "      <td>0</td>\n",
       "      <td>0</td>\n",
       "      <td>0</td>\n",
       "      <td>0</td>\n",
       "      <td>0</td>\n",
       "      <td>0</td>\n",
       "      <td>0</td>\n",
       "      <td>...</td>\n",
       "      <td>0</td>\n",
       "      <td>0</td>\n",
       "      <td>0</td>\n",
       "      <td>0</td>\n",
       "      <td>0</td>\n",
       "      <td>0</td>\n",
       "      <td>0</td>\n",
       "      <td>0</td>\n",
       "      <td>0</td>\n",
       "      <td>0</td>\n",
       "    </tr>\n",
       "  </tbody>\n",
       "</table>\n",
       "<p>5 rows × 110 columns</p>\n",
       "</div>"
      ],
      "text/plain": [
       "   grade_B  grade_C  grade_D  grade_E  grade_F  grade_G  sub_grade_A2  \\\n",
       "0        1        0        0        0        0        0             0   \n",
       "1        0        1        0        0        0        0             0   \n",
       "2        0        1        0        0        0        0             0   \n",
       "3        0        1        0        0        0        0             0   \n",
       "4        1        0        0        0        0        0             0   \n",
       "\n",
       "   sub_grade_A3  sub_grade_A4  sub_grade_A5  ...  addr_state_TN  \\\n",
       "0             0             0             0  ...              0   \n",
       "1             0             0             0  ...              0   \n",
       "2             0             0             0  ...              0   \n",
       "3             0             0             0  ...              0   \n",
       "4             0             0             0  ...              0   \n",
       "\n",
       "   addr_state_TX  addr_state_UT  addr_state_VA  addr_state_VT  addr_state_WA  \\\n",
       "0              0              0              0              0              0   \n",
       "1              0              0              0              0              0   \n",
       "2              0              0              0              0              0   \n",
       "3              0              0              0              0              0   \n",
       "4              0              0              0              0              0   \n",
       "\n",
       "   addr_state_WI  addr_state_WV  addr_state_WY  initial_list_status_w  \n",
       "0              0              0              0                      0  \n",
       "1              0              0              0                      0  \n",
       "2              0              0              0                      0  \n",
       "3              0              0              0                      0  \n",
       "4              0              0              0                      0  \n",
       "\n",
       "[5 rows x 110 columns]"
      ]
     },
     "execution_count": 56,
     "metadata": {},
     "output_type": "execute_result"
    }
   ],
   "source": [
    "one_hot = pd.get_dummies(data_raw[categorical_cols], drop_first=True)\n",
    "one_hot.head()"
   ]
  },
  {
   "cell_type": "markdown",
   "id": "13d449a4",
   "metadata": {},
   "source": [
    "## Standarisasi "
   ]
  },
  {
   "cell_type": "code",
   "execution_count": 57,
   "id": "b86e334d",
   "metadata": {},
   "outputs": [],
   "source": [
    "numerical_cols = [col for col in data_raw.columns.tolist() if col not in categorical_cols + ['bad_flag']]"
   ]
  },
  {
   "cell_type": "code",
   "execution_count": 58,
   "id": "4ffd4065",
   "metadata": {},
   "outputs": [],
   "source": [
    "from sklearn.preprocessing import StandardScaler\n",
    "\n",
    "ss = StandardScaler()\n",
    "std = pd.DataFrame(ss.fit_transform(data_raw[numerical_cols]), columns=numerical_cols)"
   ]
  },
  {
   "cell_type": "code",
   "execution_count": 59,
   "id": "eab8d245",
   "metadata": {},
   "outputs": [
    {
     "data": {
      "text/html": [
       "<div>\n",
       "<style scoped>\n",
       "    .dataframe tbody tr th:only-of-type {\n",
       "        vertical-align: middle;\n",
       "    }\n",
       "\n",
       "    .dataframe tbody tr th {\n",
       "        vertical-align: top;\n",
       "    }\n",
       "\n",
       "    .dataframe thead th {\n",
       "        text-align: right;\n",
       "    }\n",
       "</style>\n",
       "<table border=\"1\" class=\"dataframe\">\n",
       "  <thead>\n",
       "    <tr style=\"text-align: right;\">\n",
       "      <th></th>\n",
       "      <th>loan_amnt</th>\n",
       "      <th>int_rate</th>\n",
       "      <th>annual_inc</th>\n",
       "      <th>dti</th>\n",
       "      <th>delinq_2yrs</th>\n",
       "      <th>inq_last_6mths</th>\n",
       "      <th>mths_since_last_delinq</th>\n",
       "      <th>open_acc</th>\n",
       "      <th>pub_rec</th>\n",
       "      <th>revol_bal</th>\n",
       "      <th>...</th>\n",
       "      <th>total_rec_late_fee</th>\n",
       "      <th>recoveries</th>\n",
       "      <th>collections_12_mths_ex_med</th>\n",
       "      <th>acc_now_delinq</th>\n",
       "      <th>tot_coll_amt</th>\n",
       "      <th>tot_cur_bal</th>\n",
       "      <th>term_int</th>\n",
       "      <th>emp_length_int</th>\n",
       "      <th>mths_since_earliest_cr_line</th>\n",
       "      <th>mths_since_issue_d</th>\n",
       "    </tr>\n",
       "  </thead>\n",
       "  <tbody>\n",
       "    <tr>\n",
       "      <th>0</th>\n",
       "      <td>-1.124392</td>\n",
       "      <td>-0.729587</td>\n",
       "      <td>-0.896551</td>\n",
       "      <td>1.328632</td>\n",
       "      <td>-0.357012</td>\n",
       "      <td>0.178920</td>\n",
       "      <td>-0.708792</td>\n",
       "      <td>-1.641166</td>\n",
       "      <td>-0.31429</td>\n",
       "      <td>-0.124888</td>\n",
       "      <td>...</td>\n",
       "      <td>-0.123464</td>\n",
       "      <td>-0.154549</td>\n",
       "      <td>-0.083608</td>\n",
       "      <td>-0.058307</td>\n",
       "      <td>-0.012089</td>\n",
       "      <td>-0.792648</td>\n",
       "      <td>-0.616225</td>\n",
       "      <td>1.138605</td>\n",
       "      <td>1.768168</td>\n",
       "      <td>1.446626</td>\n",
       "    </tr>\n",
       "    <tr>\n",
       "      <th>1</th>\n",
       "      <td>-1.426088</td>\n",
       "      <td>0.330634</td>\n",
       "      <td>-0.787387</td>\n",
       "      <td>-2.065791</td>\n",
       "      <td>-0.357012</td>\n",
       "      <td>3.843328</td>\n",
       "      <td>-0.708792</td>\n",
       "      <td>-1.641166</td>\n",
       "      <td>-0.31429</td>\n",
       "      <td>-0.703378</td>\n",
       "      <td>...</td>\n",
       "      <td>-0.123464</td>\n",
       "      <td>0.057470</td>\n",
       "      <td>-0.083608</td>\n",
       "      <td>-0.058307</td>\n",
       "      <td>-0.012089</td>\n",
       "      <td>-0.792648</td>\n",
       "      <td>1.622784</td>\n",
       "      <td>-1.523744</td>\n",
       "      <td>-0.212289</td>\n",
       "      <td>1.446626</td>\n",
       "    </tr>\n",
       "    <tr>\n",
       "      <th>2</th>\n",
       "      <td>-1.438156</td>\n",
       "      <td>0.488979</td>\n",
       "      <td>-1.110294</td>\n",
       "      <td>-1.082491</td>\n",
       "      <td>-0.357012</td>\n",
       "      <td>1.095022</td>\n",
       "      <td>-0.708792</td>\n",
       "      <td>-1.841641</td>\n",
       "      <td>-0.31429</td>\n",
       "      <td>-0.642003</td>\n",
       "      <td>...</td>\n",
       "      <td>-0.123464</td>\n",
       "      <td>-0.154549</td>\n",
       "      <td>-0.083608</td>\n",
       "      <td>-0.058307</td>\n",
       "      <td>-0.012089</td>\n",
       "      <td>-0.792648</td>\n",
       "      <td>-0.616225</td>\n",
       "      <td>1.138605</td>\n",
       "      <td>-0.571319</td>\n",
       "      <td>1.446626</td>\n",
       "    </tr>\n",
       "    <tr>\n",
       "      <th>3</th>\n",
       "      <td>-0.521001</td>\n",
       "      <td>-0.077850</td>\n",
       "      <td>-0.438063</td>\n",
       "      <td>0.354248</td>\n",
       "      <td>-0.357012</td>\n",
       "      <td>0.178920</td>\n",
       "      <td>0.860811</td>\n",
       "      <td>-0.237839</td>\n",
       "      <td>-0.31429</td>\n",
       "      <td>-0.514224</td>\n",
       "      <td>...</td>\n",
       "      <td>3.099264</td>\n",
       "      <td>-0.154549</td>\n",
       "      <td>-0.083608</td>\n",
       "      <td>-0.058307</td>\n",
       "      <td>-0.012089</td>\n",
       "      <td>-0.792648</td>\n",
       "      <td>-0.616225</td>\n",
       "      <td>1.138605</td>\n",
       "      <td>0.227813</td>\n",
       "      <td>1.446626</td>\n",
       "    </tr>\n",
       "    <tr>\n",
       "      <th>4</th>\n",
       "      <td>-1.365749</td>\n",
       "      <td>-0.261438</td>\n",
       "      <td>0.122311</td>\n",
       "      <td>0.091865</td>\n",
       "      <td>-0.357012</td>\n",
       "      <td>-0.737182</td>\n",
       "      <td>0.991612</td>\n",
       "      <td>0.764538</td>\n",
       "      <td>-0.31429</td>\n",
       "      <td>0.558748</td>\n",
       "      <td>...</td>\n",
       "      <td>-0.123464</td>\n",
       "      <td>-0.154549</td>\n",
       "      <td>-0.083608</td>\n",
       "      <td>-0.058307</td>\n",
       "      <td>-0.012089</td>\n",
       "      <td>-0.792648</td>\n",
       "      <td>1.622784</td>\n",
       "      <td>-1.257509</td>\n",
       "      <td>0.239394</td>\n",
       "      <td>1.446626</td>\n",
       "    </tr>\n",
       "  </tbody>\n",
       "</table>\n",
       "<p>5 rows × 23 columns</p>\n",
       "</div>"
      ],
      "text/plain": [
       "   loan_amnt  int_rate  annual_inc       dti  delinq_2yrs  inq_last_6mths  \\\n",
       "0  -1.124392 -0.729587   -0.896551  1.328632    -0.357012        0.178920   \n",
       "1  -1.426088  0.330634   -0.787387 -2.065791    -0.357012        3.843328   \n",
       "2  -1.438156  0.488979   -1.110294 -1.082491    -0.357012        1.095022   \n",
       "3  -0.521001 -0.077850   -0.438063  0.354248    -0.357012        0.178920   \n",
       "4  -1.365749 -0.261438    0.122311  0.091865    -0.357012       -0.737182   \n",
       "\n",
       "   mths_since_last_delinq  open_acc  pub_rec  revol_bal  ...  \\\n",
       "0               -0.708792 -1.641166 -0.31429  -0.124888  ...   \n",
       "1               -0.708792 -1.641166 -0.31429  -0.703378  ...   \n",
       "2               -0.708792 -1.841641 -0.31429  -0.642003  ...   \n",
       "3                0.860811 -0.237839 -0.31429  -0.514224  ...   \n",
       "4                0.991612  0.764538 -0.31429   0.558748  ...   \n",
       "\n",
       "   total_rec_late_fee  recoveries  collections_12_mths_ex_med  acc_now_delinq  \\\n",
       "0           -0.123464   -0.154549                   -0.083608       -0.058307   \n",
       "1           -0.123464    0.057470                   -0.083608       -0.058307   \n",
       "2           -0.123464   -0.154549                   -0.083608       -0.058307   \n",
       "3            3.099264   -0.154549                   -0.083608       -0.058307   \n",
       "4           -0.123464   -0.154549                   -0.083608       -0.058307   \n",
       "\n",
       "   tot_coll_amt  tot_cur_bal  term_int  emp_length_int  \\\n",
       "0     -0.012089    -0.792648 -0.616225        1.138605   \n",
       "1     -0.012089    -0.792648  1.622784       -1.523744   \n",
       "2     -0.012089    -0.792648 -0.616225        1.138605   \n",
       "3     -0.012089    -0.792648 -0.616225        1.138605   \n",
       "4     -0.012089    -0.792648  1.622784       -1.257509   \n",
       "\n",
       "   mths_since_earliest_cr_line  mths_since_issue_d  \n",
       "0                     1.768168            1.446626  \n",
       "1                    -0.212289            1.446626  \n",
       "2                    -0.571319            1.446626  \n",
       "3                     0.227813            1.446626  \n",
       "4                     0.239394            1.446626  \n",
       "\n",
       "[5 rows x 23 columns]"
      ]
     },
     "execution_count": 59,
     "metadata": {},
     "output_type": "execute_result"
    }
   ],
   "source": [
    "std.head()"
   ]
  },
  {
   "cell_type": "code",
   "execution_count": 60,
   "id": "1f8daef6",
   "metadata": {},
   "outputs": [],
   "source": [
    "data = pd.concat([one_hot, std, data_raw[['bad_flag']]], axis=1)"
   ]
  },
  {
   "cell_type": "markdown",
   "id": "37d703af",
   "metadata": {},
   "source": [
    "# Modeling"
   ]
  },
  {
   "cell_type": "code",
   "execution_count": 61,
   "id": "a67f2690",
   "metadata": {},
   "outputs": [],
   "source": [
    "from sklearn.model_selection import train_test_split"
   ]
  },
  {
   "cell_type": "code",
   "execution_count": 62,
   "id": "fe3a640e",
   "metadata": {},
   "outputs": [],
   "source": [
    "X = data.drop('bad_flag', axis=1)\n",
    "y = data['bad_flag']\n",
    "\n",
    "X_train, X_test, y_train, y_test = train_test_split(X, y, test_size=0.2, random_state=42)"
   ]
  },
  {
   "cell_type": "code",
   "execution_count": 63,
   "id": "8df7a9dd",
   "metadata": {},
   "outputs": [
    {
     "data": {
      "text/plain": [
       "((373028, 133), (93257, 133))"
      ]
     },
     "execution_count": 63,
     "metadata": {},
     "output_type": "execute_result"
    }
   ],
   "source": [
    "X_train.shape, X_test.shape"
   ]
  },
  {
   "cell_type": "code",
   "execution_count": 64,
   "id": "8fa8d5eb",
   "metadata": {},
   "outputs": [],
   "source": [
    "from sklearn.tree import DecisionTreeClassifier"
   ]
  },
  {
   "cell_type": "code",
   "execution_count": 65,
   "id": "89dc9f0c",
   "metadata": {},
   "outputs": [],
   "source": [
    "tree_model = DecisionTreeClassifier() \n",
    " \n",
    "# Melatih model dengan menggunakan data latih\n",
    "tree_model = tree_model.fit(X_train, y_train)"
   ]
  },
  {
   "cell_type": "code",
   "execution_count": 66,
   "id": "b83c43cc",
   "metadata": {},
   "outputs": [
    {
     "name": "stdout",
     "output_type": "stream",
     "text": [
      "Confusion Matrix:\n",
      "[[78199  4868]\n",
      " [ 4269  5921]]\n",
      "\n",
      "Accuracy: 0.9020234405996332\n",
      "\n",
      "Classification Report:\n",
      "              precision    recall  f1-score   support\n",
      "\n",
      "           0       0.95      0.94      0.94     83067\n",
      "           1       0.55      0.58      0.56     10190\n",
      "\n",
      "    accuracy                           0.90     93257\n",
      "   macro avg       0.75      0.76      0.75     93257\n",
      "weighted avg       0.90      0.90      0.90     93257\n",
      "\n"
     ]
    }
   ],
   "source": [
    "# Evaluasi Model\n",
    "from sklearn.metrics import confusion_matrix, accuracy_score, classification_report\n",
    " \n",
    "y_pred = tree_model.predict(X_test)\n",
    "  \n",
    "cm = confusion_matrix(y_test, y_pred)\n",
    "print(\"Confusion Matrix:\")\n",
    "print(cm)\n",
    "\n",
    "# Menghitung akurasi\n",
    "accuracy = accuracy_score(y_test, y_pred)\n",
    "print(\"\\nAccuracy:\", accuracy)\n",
    "\n",
    "# Menampilkan laporan klasifikasi\n",
    "print(\"\\nClassification Report:\")\n",
    "print(classification_report(y_test, y_pred))"
   ]
  },
  {
   "cell_type": "markdown",
   "id": "02700241",
   "metadata": {},
   "source": [
    "# Kesimpulan "
   ]
  },
  {
   "cell_type": "markdown",
   "id": "76b94105",
   "metadata": {},
   "source": [
    "Hasil dari confusion matrix menunjukkan jumlah debitur yang berhasil ditebak secara benar bahwa debitur memiliki label pembayaran yang buruk ada 78199, sedangkan jumlah debitur yang berhasil ditebak sebagai pembayaran yang baik ada 5921"
   ]
  },
  {
   "cell_type": "markdown",
   "id": "3b452074",
   "metadata": {},
   "source": [
    "Kegagalan model dalam menebak debitur yang pembayarannya buruk ada 4868 sedangkan kegagalan model dalam menebak debitur yang pembayarannya baik ada 5921 "
   ]
  },
  {
   "cell_type": "markdown",
   "id": "e95d1662",
   "metadata": {},
   "source": [
    "Model DecisionTree memiliki akurasi : 90.2%"
   ]
  },
  {
   "cell_type": "markdown",
   "id": "01cfb955",
   "metadata": {},
   "source": [
    "# Saran"
   ]
  },
  {
   "cell_type": "markdown",
   "id": "f27d831e",
   "metadata": {},
   "source": [
    "Menentukan fitur yang memiliki pengaruh paling besar dalam mengklasifikasikan pembayaran baik dan pembayaran buruk"
   ]
  },
  {
   "cell_type": "markdown",
   "id": "fe646841",
   "metadata": {},
   "source": [
    "Model dites menggunakan dataset yang baru untuk mengecek apakah model overfit atau tidak"
   ]
  },
  {
   "cell_type": "markdown",
   "id": "81911c30",
   "metadata": {},
   "source": [
    "Mereduksi dimensi se optimal mungkin agar model lebih ringan untuk digunakan"
   ]
  }
 ],
 "metadata": {
  "kernelspec": {
   "display_name": "Python 3 (ipykernel)",
   "language": "python",
   "name": "python3"
  },
  "language_info": {
   "codemirror_mode": {
    "name": "ipython",
    "version": 3
   },
   "file_extension": ".py",
   "mimetype": "text/x-python",
   "name": "python",
   "nbconvert_exporter": "python",
   "pygments_lexer": "ipython3",
   "version": "3.9.7"
  }
 },
 "nbformat": 4,
 "nbformat_minor": 5
}
